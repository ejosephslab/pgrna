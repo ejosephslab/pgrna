{
 "cells": [
  {
   "cell_type": "code",
   "execution_count": 14,
   "metadata": {},
   "outputs": [],
   "source": [
    "# Reading the csv file for gRNA for HPV16\n",
    "import pandas as pd \n",
    "import re\n",
    "import os\n",
    "import subprocess\n",
    "import pickle"
   ]
  },
  {
   "cell_type": "code",
   "execution_count": 15,
   "metadata": {},
   "outputs": [
    {
     "name": "stdout",
     "output_type": "stream",
     "text": [
      "7905 nuceoliotides\n"
     ]
    }
   ],
   "source": [
    "from Bio import SeqIO\n",
    "for sequence in SeqIO.parse('HPV16.fasta', \"fasta\"):\n",
    "    #print(sequence.seq)\n",
    "    print(len(sequence),'nuceoliotides')"
   ]
  },
  {
   "cell_type": "code",
   "execution_count": 16,
   "metadata": {},
   "outputs": [
    {
     "data": {
      "text/html": [
       "<div>\n",
       "<style scoped>\n",
       "    .dataframe tbody tr th:only-of-type {\n",
       "        vertical-align: middle;\n",
       "    }\n",
       "\n",
       "    .dataframe tbody tr th {\n",
       "        vertical-align: top;\n",
       "    }\n",
       "\n",
       "    .dataframe thead th {\n",
       "        text-align: right;\n",
       "    }\n",
       "</style>\n",
       "<table border=\"1\" class=\"dataframe\">\n",
       "  <thead>\n",
       "    <tr style=\"text-align: right;\">\n",
       "      <th></th>\n",
       "      <th>Input</th>\n",
       "      <th>Quota</th>\n",
       "      <th>Target Taxon</th>\n",
       "      <th>Target Gene ID</th>\n",
       "      <th>Target Gene Symbol</th>\n",
       "      <th>Target Transcript</th>\n",
       "      <th>Target Alias</th>\n",
       "      <th>CRISPR Mechanism</th>\n",
       "      <th>Target Domain</th>\n",
       "      <th>Reference Sequence</th>\n",
       "      <th>...</th>\n",
       "      <th>On-Target Ruleset</th>\n",
       "      <th>On-Target Efficacy Score</th>\n",
       "      <th>On-Target Rank</th>\n",
       "      <th>Off-Target Rank</th>\n",
       "      <th>On-Target Rank Weight</th>\n",
       "      <th>Off-Target Rank Weight</th>\n",
       "      <th>Combined Rank</th>\n",
       "      <th>Pick Order</th>\n",
       "      <th>Picking Round</th>\n",
       "      <th>Picking Notes</th>\n",
       "    </tr>\n",
       "  </thead>\n",
       "  <tbody>\n",
       "    <tr>\n",
       "      <th>0</th>\n",
       "      <td>Input Sequence</td>\n",
       "      <td>5</td>\n",
       "      <td>9606</td>\n",
       "      <td>NaN</td>\n",
       "      <td>NaN</td>\n",
       "      <td>NaN</td>\n",
       "      <td>Input Sequence</td>\n",
       "      <td>CRISPRko</td>\n",
       "      <td>CDS</td>\n",
       "      <td>Input Sequence</td>\n",
       "      <td>...</td>\n",
       "      <td>Azimuth_2.0</td>\n",
       "      <td>0.7441</td>\n",
       "      <td>7</td>\n",
       "      <td>9</td>\n",
       "      <td>1</td>\n",
       "      <td>1</td>\n",
       "      <td>1</td>\n",
       "      <td>1.0</td>\n",
       "      <td>1.0</td>\n",
       "      <td>NaN</td>\n",
       "    </tr>\n",
       "    <tr>\n",
       "      <th>1</th>\n",
       "      <td>Input Sequence</td>\n",
       "      <td>5</td>\n",
       "      <td>9606</td>\n",
       "      <td>NaN</td>\n",
       "      <td>NaN</td>\n",
       "      <td>NaN</td>\n",
       "      <td>Input Sequence</td>\n",
       "      <td>CRISPRko</td>\n",
       "      <td>CDS</td>\n",
       "      <td>Input Sequence</td>\n",
       "      <td>...</td>\n",
       "      <td>Azimuth_2.0</td>\n",
       "      <td>0.6762</td>\n",
       "      <td>29</td>\n",
       "      <td>22</td>\n",
       "      <td>1</td>\n",
       "      <td>1</td>\n",
       "      <td>2</td>\n",
       "      <td>2.0</td>\n",
       "      <td>1.0</td>\n",
       "      <td>NaN</td>\n",
       "    </tr>\n",
       "    <tr>\n",
       "      <th>2</th>\n",
       "      <td>Input Sequence</td>\n",
       "      <td>5</td>\n",
       "      <td>9606</td>\n",
       "      <td>NaN</td>\n",
       "      <td>NaN</td>\n",
       "      <td>NaN</td>\n",
       "      <td>Input Sequence</td>\n",
       "      <td>CRISPRko</td>\n",
       "      <td>CDS</td>\n",
       "      <td>Input Sequence</td>\n",
       "      <td>...</td>\n",
       "      <td>Azimuth_2.0</td>\n",
       "      <td>0.7690</td>\n",
       "      <td>3</td>\n",
       "      <td>60</td>\n",
       "      <td>1</td>\n",
       "      <td>1</td>\n",
       "      <td>3</td>\n",
       "      <td>3.0</td>\n",
       "      <td>1.0</td>\n",
       "      <td>NaN</td>\n",
       "    </tr>\n",
       "    <tr>\n",
       "      <th>3</th>\n",
       "      <td>Input Sequence</td>\n",
       "      <td>5</td>\n",
       "      <td>9606</td>\n",
       "      <td>NaN</td>\n",
       "      <td>NaN</td>\n",
       "      <td>NaN</td>\n",
       "      <td>Input Sequence</td>\n",
       "      <td>CRISPRko</td>\n",
       "      <td>CDS</td>\n",
       "      <td>Input Sequence</td>\n",
       "      <td>...</td>\n",
       "      <td>Azimuth_2.0</td>\n",
       "      <td>0.6536</td>\n",
       "      <td>42</td>\n",
       "      <td>26</td>\n",
       "      <td>1</td>\n",
       "      <td>1</td>\n",
       "      <td>4</td>\n",
       "      <td>NaN</td>\n",
       "      <td>NaN</td>\n",
       "      <td>Spacing Violation: Too close to earlier pick a...</td>\n",
       "    </tr>\n",
       "    <tr>\n",
       "      <th>4</th>\n",
       "      <td>Input Sequence</td>\n",
       "      <td>5</td>\n",
       "      <td>9606</td>\n",
       "      <td>NaN</td>\n",
       "      <td>NaN</td>\n",
       "      <td>NaN</td>\n",
       "      <td>Input Sequence</td>\n",
       "      <td>CRISPRko</td>\n",
       "      <td>CDS</td>\n",
       "      <td>Input Sequence</td>\n",
       "      <td>...</td>\n",
       "      <td>Azimuth_2.0</td>\n",
       "      <td>0.7275</td>\n",
       "      <td>12</td>\n",
       "      <td>59</td>\n",
       "      <td>1</td>\n",
       "      <td>1</td>\n",
       "      <td>5</td>\n",
       "      <td>NaN</td>\n",
       "      <td>NaN</td>\n",
       "      <td>Spacing Violation: Too close to earlier pick a...</td>\n",
       "    </tr>\n",
       "  </tbody>\n",
       "</table>\n",
       "<p>5 rows × 53 columns</p>\n",
       "</div>"
      ],
      "text/plain": [
       "            Input  Quota  Target Taxon  Target Gene ID  Target Gene Symbol  \\\n",
       "0  Input Sequence      5          9606             NaN                 NaN   \n",
       "1  Input Sequence      5          9606             NaN                 NaN   \n",
       "2  Input Sequence      5          9606             NaN                 NaN   \n",
       "3  Input Sequence      5          9606             NaN                 NaN   \n",
       "4  Input Sequence      5          9606             NaN                 NaN   \n",
       "\n",
       "   Target Transcript    Target Alias CRISPR Mechanism Target Domain  \\\n",
       "0                NaN  Input Sequence         CRISPRko           CDS   \n",
       "1                NaN  Input Sequence         CRISPRko           CDS   \n",
       "2                NaN  Input Sequence         CRISPRko           CDS   \n",
       "3                NaN  Input Sequence         CRISPRko           CDS   \n",
       "4                NaN  Input Sequence         CRISPRko           CDS   \n",
       "\n",
       "  Reference Sequence  ...  On-Target Ruleset On-Target Efficacy Score  \\\n",
       "0     Input Sequence  ...        Azimuth_2.0                   0.7441   \n",
       "1     Input Sequence  ...        Azimuth_2.0                   0.6762   \n",
       "2     Input Sequence  ...        Azimuth_2.0                   0.7690   \n",
       "3     Input Sequence  ...        Azimuth_2.0                   0.6536   \n",
       "4     Input Sequence  ...        Azimuth_2.0                   0.7275   \n",
       "\n",
       "   On-Target Rank  Off-Target Rank  On-Target Rank Weight  \\\n",
       "0               7                9                      1   \n",
       "1              29               22                      1   \n",
       "2               3               60                      1   \n",
       "3              42               26                      1   \n",
       "4              12               59                      1   \n",
       "\n",
       "  Off-Target Rank Weight  Combined Rank Pick Order  Picking Round  \\\n",
       "0                      1              1        1.0            1.0   \n",
       "1                      1              2        2.0            1.0   \n",
       "2                      1              3        3.0            1.0   \n",
       "3                      1              4        NaN            NaN   \n",
       "4                      1              5        NaN            NaN   \n",
       "\n",
       "                                       Picking Notes  \n",
       "0                                                NaN  \n",
       "1                                                NaN  \n",
       "2                                                NaN  \n",
       "3  Spacing Violation: Too close to earlier pick a...  \n",
       "4  Spacing Violation: Too close to earlier pick a...  \n",
       "\n",
       "[5 rows x 53 columns]"
      ]
     },
     "execution_count": 16,
     "metadata": {},
     "output_type": "execute_result"
    }
   ],
   "source": [
    "df1 = pd.read_csv(\"HIV16_scores.csv\")\n",
    "df1.head()"
   ]
  },
  {
   "cell_type": "code",
   "execution_count": 17,
   "metadata": {},
   "outputs": [
    {
     "data": {
      "text/plain": [
       "613"
      ]
     },
     "execution_count": 17,
     "metadata": {},
     "output_type": "execute_result"
    }
   ],
   "source": [
    "len(df1)"
   ]
  },
  {
   "cell_type": "code",
   "execution_count": 18,
   "metadata": {},
   "outputs": [],
   "source": [
    "df = df1[['sgRNA Cut Position (1-based)', 'Orientation', 'sgRNA Sequence', 'On-Target Efficacy Score']].copy()\n"
   ]
  },
  {
   "cell_type": "code",
   "execution_count": 19,
   "metadata": {},
   "outputs": [
    {
     "data": {
      "text/html": [
       "<div>\n",
       "<style scoped>\n",
       "    .dataframe tbody tr th:only-of-type {\n",
       "        vertical-align: middle;\n",
       "    }\n",
       "\n",
       "    .dataframe tbody tr th {\n",
       "        vertical-align: top;\n",
       "    }\n",
       "\n",
       "    .dataframe thead th {\n",
       "        text-align: right;\n",
       "    }\n",
       "</style>\n",
       "<table border=\"1\" class=\"dataframe\">\n",
       "  <thead>\n",
       "    <tr style=\"text-align: right;\">\n",
       "      <th></th>\n",
       "      <th>sgRNA Cut Position (1-based)</th>\n",
       "      <th>Orientation</th>\n",
       "      <th>sgRNA Sequence</th>\n",
       "      <th>On-Target Efficacy Score</th>\n",
       "    </tr>\n",
       "  </thead>\n",
       "  <tbody>\n",
       "    <tr>\n",
       "      <th>0</th>\n",
       "      <td>5125</td>\n",
       "      <td>antisense</td>\n",
       "      <td>CCTAATGCCAGTACGCCTAG</td>\n",
       "      <td>0.7441</td>\n",
       "    </tr>\n",
       "    <tr>\n",
       "      <th>1</th>\n",
       "      <td>2835</td>\n",
       "      <td>antisense</td>\n",
       "      <td>AATAGTCTATATGGTCACGT</td>\n",
       "      <td>0.6762</td>\n",
       "    </tr>\n",
       "    <tr>\n",
       "      <th>2</th>\n",
       "      <td>1507</td>\n",
       "      <td>sense</td>\n",
       "      <td>AAAATTTAAAGAGTTATACG</td>\n",
       "      <td>0.7690</td>\n",
       "    </tr>\n",
       "    <tr>\n",
       "      <th>3</th>\n",
       "      <td>2731</td>\n",
       "      <td>sense</td>\n",
       "      <td>GTCCAGATTAAGTTTGCACG</td>\n",
       "      <td>0.6536</td>\n",
       "    </tr>\n",
       "    <tr>\n",
       "      <th>4</th>\n",
       "      <td>2448</td>\n",
       "      <td>antisense</td>\n",
       "      <td>TCATCTATGTAGTTCCAACA</td>\n",
       "      <td>0.7275</td>\n",
       "    </tr>\n",
       "  </tbody>\n",
       "</table>\n",
       "</div>"
      ],
      "text/plain": [
       "   sgRNA Cut Position (1-based) Orientation        sgRNA Sequence  \\\n",
       "0                          5125   antisense  CCTAATGCCAGTACGCCTAG   \n",
       "1                          2835   antisense  AATAGTCTATATGGTCACGT   \n",
       "2                          1507       sense  AAAATTTAAAGAGTTATACG   \n",
       "3                          2731       sense  GTCCAGATTAAGTTTGCACG   \n",
       "4                          2448   antisense  TCATCTATGTAGTTCCAACA   \n",
       "\n",
       "   On-Target Efficacy Score  \n",
       "0                    0.7441  \n",
       "1                    0.6762  \n",
       "2                    0.7690  \n",
       "3                    0.6536  \n",
       "4                    0.7275  "
      ]
     },
     "execution_count": 19,
     "metadata": {},
     "output_type": "execute_result"
    }
   ],
   "source": [
    "df.head()"
   ]
  },
  {
   "cell_type": "code",
   "execution_count": 20,
   "metadata": {},
   "outputs": [],
   "source": [
    "## Finding the top quartile \n",
    "ng = len(df)# number of guide candidates\n",
    "\n",
    "df = df.sort_values(by=[\"On-Target Efficacy Score\"], ascending=False)"
   ]
  },
  {
   "cell_type": "code",
   "execution_count": 21,
   "metadata": {},
   "outputs": [],
   "source": [
    "gRNA_list = list(df[\"sgRNA Sequence\"])\n",
    "GuideName_list = list(df[\"sgRNA Cut Position (1-based)\"])\n",
    "score_list = list(df[\"On-Target Efficacy Score\"])\n",
    "# Function to compare two strings\n",
    "def Str2MatchStr1(str1, str2):\n",
    "    count = 0\n",
    "    l = len(str1)\n",
    "    for i in range(l):\n",
    "        if str1[i]== str2[i]:\n",
    "            count = count+1\n",
    "    return count\n",
    "\n",
    "match1 = []\n",
    "match2 = []\n",
    "similar_nt = []\n",
    "score_gRNA_A = []\n",
    "score_gRNA_B = []\n",
    "GuideName_A = []\n",
    "GuideName_B = []\n",
    "l = len(gRNA_list)\n",
    "\n",
    "for i in range(l-1):\n",
    "    for j in range(i+1,l):\n",
    "        #print(i,j)\n",
    "            x = gRNA_list[i]\n",
    "            row = gRNA_list[j]\n",
    "            score1 = score_list[i]\n",
    "            score2 = score_list[j]\n",
    "            guideA = GuideName_list[i]\n",
    "            guideB = GuideName_list[j]\n",
    "            matchnumber = Str2MatchStr1(x, row) \n",
    "            if (matchnumber >= 15):\n",
    "                match1.append(x)\n",
    "                match2.append(row)\n",
    "                similar_nt.append(matchnumber)\n",
    "                score_gRNA_A.append(score1)\n",
    "                score_gRNA_B.append(score2)\n",
    "                GuideName_A.append(guideA)\n",
    "                GuideName_B.append(guideB)\n",
    "                #print('position', i,'gRNA', x, ' and ','position',j, 'match', row, 'similar nt', matchnumber)"
   ]
  },
  {
   "cell_type": "code",
   "execution_count": 22,
   "metadata": {},
   "outputs": [
    {
     "data": {
      "text/html": [
       "<div>\n",
       "<style scoped>\n",
       "    .dataframe tbody tr th:only-of-type {\n",
       "        vertical-align: middle;\n",
       "    }\n",
       "\n",
       "    .dataframe tbody tr th {\n",
       "        vertical-align: top;\n",
       "    }\n",
       "\n",
       "    .dataframe thead th {\n",
       "        text-align: right;\n",
       "    }\n",
       "</style>\n",
       "<table border=\"1\" class=\"dataframe\">\n",
       "  <thead>\n",
       "    <tr style=\"text-align: right;\">\n",
       "      <th></th>\n",
       "      <th>GuideA Position</th>\n",
       "      <th>Guide A</th>\n",
       "      <th>Guide A Score</th>\n",
       "      <th>GuideB Position</th>\n",
       "      <th>Guide B</th>\n",
       "      <th>Guide B Score</th>\n",
       "      <th>Similar NT</th>\n",
       "    </tr>\n",
       "  </thead>\n",
       "  <tbody>\n",
       "    <tr>\n",
       "      <th>0</th>\n",
       "      <td>3579</td>\n",
       "      <td>GCATTTAACAGCTCACACAA</td>\n",
       "      <td>0.7233</td>\n",
       "      <td>392</td>\n",
       "      <td>CTAATTAACAAATCACACAA</td>\n",
       "      <td>0.7222</td>\n",
       "      <td>15</td>\n",
       "    </tr>\n",
       "    <tr>\n",
       "      <th>1</th>\n",
       "      <td>3314</td>\n",
       "      <td>TAAAGTATGGGAAGTTCATG</td>\n",
       "      <td>0.6145</td>\n",
       "      <td>1673</td>\n",
       "      <td>CAAAGTTTAGCATGTTCATG</td>\n",
       "      <td>0.6075</td>\n",
       "      <td>15</td>\n",
       "    </tr>\n",
       "    <tr>\n",
       "      <th>2</th>\n",
       "      <td>1388</td>\n",
       "      <td>CAGTACAGTAGTGGAAGTGG</td>\n",
       "      <td>0.5933</td>\n",
       "      <td>1355</td>\n",
       "      <td>CAGTATAGTGGTGGAAGTGG</td>\n",
       "      <td>0.5134</td>\n",
       "      <td>18</td>\n",
       "    </tr>\n",
       "    <tr>\n",
       "      <th>3</th>\n",
       "      <td>1387</td>\n",
       "      <td>TCAGTACAGTAGTGGAAGTG</td>\n",
       "      <td>0.5906</td>\n",
       "      <td>1354</td>\n",
       "      <td>TCAGTATAGTGGTGGAAGTG</td>\n",
       "      <td>0.5255</td>\n",
       "      <td>18</td>\n",
       "    </tr>\n",
       "    <tr>\n",
       "      <th>4</th>\n",
       "      <td>1386</td>\n",
       "      <td>GTCAGTACAGTAGTGGAAGT</td>\n",
       "      <td>0.5749</td>\n",
       "      <td>1353</td>\n",
       "      <td>GTCAGTATAGTGGTGGAAGT</td>\n",
       "      <td>0.4980</td>\n",
       "      <td>18</td>\n",
       "    </tr>\n",
       "    <tr>\n",
       "      <th>5</th>\n",
       "      <td>1385</td>\n",
       "      <td>AGTCAGTACAGTAGTGGAAG</td>\n",
       "      <td>0.5150</td>\n",
       "      <td>1352</td>\n",
       "      <td>AGTCAGTATAGTGGTGGAAG</td>\n",
       "      <td>0.4176</td>\n",
       "      <td>18</td>\n",
       "    </tr>\n",
       "  </tbody>\n",
       "</table>\n",
       "</div>"
      ],
      "text/plain": [
       "   GuideA Position               Guide A  Guide A Score  GuideB Position  \\\n",
       "0             3579  GCATTTAACAGCTCACACAA         0.7233              392   \n",
       "1             3314  TAAAGTATGGGAAGTTCATG         0.6145             1673   \n",
       "2             1388  CAGTACAGTAGTGGAAGTGG         0.5933             1355   \n",
       "3             1387  TCAGTACAGTAGTGGAAGTG         0.5906             1354   \n",
       "4             1386  GTCAGTACAGTAGTGGAAGT         0.5749             1353   \n",
       "5             1385  AGTCAGTACAGTAGTGGAAG         0.5150             1352   \n",
       "\n",
       "                Guide B  Guide B Score  Similar NT  \n",
       "0  CTAATTAACAAATCACACAA         0.7222          15  \n",
       "1  CAAAGTTTAGCATGTTCATG         0.6075          15  \n",
       "2  CAGTATAGTGGTGGAAGTGG         0.5134          18  \n",
       "3  TCAGTATAGTGGTGGAAGTG         0.5255          18  \n",
       "4  GTCAGTATAGTGGTGGAAGT         0.4980          18  \n",
       "5  AGTCAGTATAGTGGTGGAAG         0.4176          18  "
      ]
     },
     "execution_count": 22,
     "metadata": {},
     "output_type": "execute_result"
    }
   ],
   "source": [
    "df_pairs = pd.DataFrame({'GuideA Position': GuideName_A,'Guide A':match1,'Guide A Score': score_gRNA_A,'GuideB Position': GuideName_B,'Guide B': match2, 'Guide B Score': score_gRNA_B,'Similar NT': similar_nt})\n",
    "df_pairs"
   ]
  },
  {
   "cell_type": "code",
   "execution_count": 23,
   "metadata": {},
   "outputs": [
    {
     "data": {
      "text/plain": [
       "6"
      ]
     },
     "execution_count": 23,
     "metadata": {},
     "output_type": "execute_result"
    }
   ],
   "source": [
    "len(df_pairs)"
   ]
  },
  {
   "cell_type": "code",
   "execution_count": 24,
   "metadata": {},
   "outputs": [],
   "source": [
    "#Reverse complements a given string\n",
    "def revcom(s):\n",
    "    basecomp = {'A': 'T', 'C': 'G', 'G': 'C', 'T': 'A','U':'A'}\n",
    "    letters = list(s[::-1])\n",
    "    letters = [basecomp[base] for base in letters]\n",
    "    return ''.join(letters)"
   ]
  },
  {
   "cell_type": "code",
   "execution_count": 25,
   "metadata": {},
   "outputs": [],
   "source": [
    "## Doing Sequence Complement of Homologous Guide Sequences to find the Target position in SARS Cov2 genome\n",
    "target_A_list = df_pairs[\"Guide A\"].apply(revcom)\n",
    "target_B_list = df_pairs[\"Guide B\"].apply(revcom)\n",
    "\n",
    "df_pairs[\"Target A\"] = target_A_list\n",
    "df_pairs[\"Target B\"] = target_B_list"
   ]
  },
  {
   "cell_type": "code",
   "execution_count": 26,
   "metadata": {},
   "outputs": [
    {
     "data": {
      "text/html": [
       "<div>\n",
       "<style scoped>\n",
       "    .dataframe tbody tr th:only-of-type {\n",
       "        vertical-align: middle;\n",
       "    }\n",
       "\n",
       "    .dataframe tbody tr th {\n",
       "        vertical-align: top;\n",
       "    }\n",
       "\n",
       "    .dataframe thead th {\n",
       "        text-align: right;\n",
       "    }\n",
       "</style>\n",
       "<table border=\"1\" class=\"dataframe\">\n",
       "  <thead>\n",
       "    <tr style=\"text-align: right;\">\n",
       "      <th></th>\n",
       "      <th>GuideA Position</th>\n",
       "      <th>Guide A</th>\n",
       "      <th>Guide A Score</th>\n",
       "      <th>GuideB Position</th>\n",
       "      <th>Guide B</th>\n",
       "      <th>Guide B Score</th>\n",
       "      <th>Similar NT</th>\n",
       "      <th>Target A</th>\n",
       "      <th>Target B</th>\n",
       "    </tr>\n",
       "  </thead>\n",
       "  <tbody>\n",
       "    <tr>\n",
       "      <th>0</th>\n",
       "      <td>3579</td>\n",
       "      <td>GCATTTAACAGCTCACACAA</td>\n",
       "      <td>0.7233</td>\n",
       "      <td>392</td>\n",
       "      <td>CTAATTAACAAATCACACAA</td>\n",
       "      <td>0.7222</td>\n",
       "      <td>15</td>\n",
       "      <td>TTGTGTGAGCTGTTAAATGC</td>\n",
       "      <td>TTGTGTGATTTGTTAATTAG</td>\n",
       "    </tr>\n",
       "    <tr>\n",
       "      <th>1</th>\n",
       "      <td>3314</td>\n",
       "      <td>TAAAGTATGGGAAGTTCATG</td>\n",
       "      <td>0.6145</td>\n",
       "      <td>1673</td>\n",
       "      <td>CAAAGTTTAGCATGTTCATG</td>\n",
       "      <td>0.6075</td>\n",
       "      <td>15</td>\n",
       "      <td>CATGAACTTCCCATACTTTA</td>\n",
       "      <td>CATGAACATGCTAAACTTTG</td>\n",
       "    </tr>\n",
       "    <tr>\n",
       "      <th>2</th>\n",
       "      <td>1388</td>\n",
       "      <td>CAGTACAGTAGTGGAAGTGG</td>\n",
       "      <td>0.5933</td>\n",
       "      <td>1355</td>\n",
       "      <td>CAGTATAGTGGTGGAAGTGG</td>\n",
       "      <td>0.5134</td>\n",
       "      <td>18</td>\n",
       "      <td>CCACTTCCACTACTGTACTG</td>\n",
       "      <td>CCACTTCCACCACTATACTG</td>\n",
       "    </tr>\n",
       "    <tr>\n",
       "      <th>3</th>\n",
       "      <td>1387</td>\n",
       "      <td>TCAGTACAGTAGTGGAAGTG</td>\n",
       "      <td>0.5906</td>\n",
       "      <td>1354</td>\n",
       "      <td>TCAGTATAGTGGTGGAAGTG</td>\n",
       "      <td>0.5255</td>\n",
       "      <td>18</td>\n",
       "      <td>CACTTCCACTACTGTACTGA</td>\n",
       "      <td>CACTTCCACCACTATACTGA</td>\n",
       "    </tr>\n",
       "    <tr>\n",
       "      <th>4</th>\n",
       "      <td>1386</td>\n",
       "      <td>GTCAGTACAGTAGTGGAAGT</td>\n",
       "      <td>0.5749</td>\n",
       "      <td>1353</td>\n",
       "      <td>GTCAGTATAGTGGTGGAAGT</td>\n",
       "      <td>0.4980</td>\n",
       "      <td>18</td>\n",
       "      <td>ACTTCCACTACTGTACTGAC</td>\n",
       "      <td>ACTTCCACCACTATACTGAC</td>\n",
       "    </tr>\n",
       "  </tbody>\n",
       "</table>\n",
       "</div>"
      ],
      "text/plain": [
       "   GuideA Position               Guide A  Guide A Score  GuideB Position  \\\n",
       "0             3579  GCATTTAACAGCTCACACAA         0.7233              392   \n",
       "1             3314  TAAAGTATGGGAAGTTCATG         0.6145             1673   \n",
       "2             1388  CAGTACAGTAGTGGAAGTGG         0.5933             1355   \n",
       "3             1387  TCAGTACAGTAGTGGAAGTG         0.5906             1354   \n",
       "4             1386  GTCAGTACAGTAGTGGAAGT         0.5749             1353   \n",
       "\n",
       "                Guide B  Guide B Score  Similar NT              Target A  \\\n",
       "0  CTAATTAACAAATCACACAA         0.7222          15  TTGTGTGAGCTGTTAAATGC   \n",
       "1  CAAAGTTTAGCATGTTCATG         0.6075          15  CATGAACTTCCCATACTTTA   \n",
       "2  CAGTATAGTGGTGGAAGTGG         0.5134          18  CCACTTCCACTACTGTACTG   \n",
       "3  TCAGTATAGTGGTGGAAGTG         0.5255          18  CACTTCCACTACTGTACTGA   \n",
       "4  GTCAGTATAGTGGTGGAAGT         0.4980          18  ACTTCCACTACTGTACTGAC   \n",
       "\n",
       "               Target B  \n",
       "0  TTGTGTGATTTGTTAATTAG  \n",
       "1  CATGAACATGCTAAACTTTG  \n",
       "2  CCACTTCCACCACTATACTG  \n",
       "3  CACTTCCACCACTATACTGA  \n",
       "4  ACTTCCACCACTATACTGAC  "
      ]
     },
     "execution_count": 26,
     "metadata": {},
     "output_type": "execute_result"
    }
   ],
   "source": [
    "df_pairs.head()"
   ]
  },
  {
   "cell_type": "code",
   "execution_count": 27,
   "metadata": {},
   "outputs": [],
   "source": [
    "def Mismatch_Alignment(a,b):\n",
    "    mismatch = dif(a,b)\n",
    "    for val in mismatch:\n",
    "        list1 = list(a)\n",
    "        list1[val] = 'X'\n",
    "        a = ''.join(list1)\n",
    "\n",
    "    return(a)"
   ]
  },
  {
   "cell_type": "code",
   "execution_count": 28,
   "metadata": {},
   "outputs": [],
   "source": [
    "def dif(a, b):\n",
    "    return [i for i in range(len(a)) if a[i] != b[i]]"
   ]
  },
  {
   "cell_type": "code",
   "execution_count": 29,
   "metadata": {},
   "outputs": [],
   "source": [
    "Mismatch_position_list = []\n",
    "for i in range(len(df_pairs)):\n",
    "    a = df_pairs[\"Target A\"][i]\n",
    "    b = df_pairs[\"Target B\"][i]\n",
    "    Mismatch_position = Mismatch_Alignment(a,b)\n",
    "    Mismatch_position_list.append(Mismatch_position)"
   ]
  },
  {
   "cell_type": "code",
   "execution_count": 30,
   "metadata": {},
   "outputs": [],
   "source": [
    "df_pairs[\"Mismatch_Position\"] = Mismatch_position_list"
   ]
  },
  {
   "cell_type": "code",
   "execution_count": 31,
   "metadata": {},
   "outputs": [],
   "source": [
    "df_pairs.to_csv (r'df_pairs_sorted_top_quartile.csv', index = False, header=True)"
   ]
  },
  {
   "cell_type": "code",
   "execution_count": 32,
   "metadata": {},
   "outputs": [],
   "source": [
    "# Creating Decimal tobase 4 function in python\n",
    "def is_zero(n):\n",
    "    for d in n:\n",
    "        if d != 0:\n",
    "            return False\n",
    "    return True\n",
    "\n",
    "def modulo_div(n,original_base,destination_base):\n",
    "    carry = 0\n",
    "    for i in range(len(n)):\n",
    "        d = n[i]\n",
    "        d+=original_base*carry \n",
    "        carry = d%destination_base \n",
    "        d=(d//destination_base)\n",
    "        n[i] = d\n",
    "    return carry\n",
    "\n",
    "def convertBase(n,original_base,destination_base):\n",
    "    digits = []    \n",
    "    while not is_zero(n):\n",
    "        digits.insert(0,modulo_div(n,original_base,destination_base))\n",
    "    return digits\n",
    "\n",
    "def Dec2base4(inputNum):\n",
    "    if inputNum <4:\n",
    "        l1 = []\n",
    "        num = inputNum//1\n",
    "        l1.append(num)\n",
    "    elif inputNum >= 4:\n",
    "        n = str(inputNum)\n",
    "        b = str(n)\n",
    "        c = []\n",
    "\n",
    "        for digit in b:\n",
    "            c.append (int(digit))\n",
    "        n = c\n",
    "        original_base = 10\n",
    "        destination_base = 4\n",
    "        l1 = convertBase(n,original_base,destination_base)             \n",
    "    return l1"
   ]
  },
  {
   "cell_type": "markdown",
   "metadata": {},
   "source": [
    "### Design of optimised PgRNA"
   ]
  },
  {
   "cell_type": "markdown",
   "metadata": {},
   "source": [
    "#### GC Content"
   ]
  },
  {
   "cell_type": "code",
   "execution_count": 33,
   "metadata": {},
   "outputs": [],
   "source": [
    "# Checking all the criteria for gRNA design\n",
    "# GC content > 30% and <70%\n",
    "\n",
    "# Defining a function\n",
    "# GC content (or Guanine-Cytosine content)\n",
    "def gc_content(genome):\n",
    "    g_content = genome.count(\"G\")\n",
    "    c_content = genome.count(\"C\")\n",
    "    a_content = genome.count(\"A\")\n",
    "    t_content = genome.count(\"T\")\n",
    "    return 100*((g_content+c_content)/(a_content+c_content+g_content+t_content))"
   ]
  },
  {
   "cell_type": "markdown",
   "metadata": {},
   "source": [
    "#### CFD Scoring part"
   ]
  },
  {
   "cell_type": "code",
   "execution_count": 34,
   "metadata": {},
   "outputs": [],
   "source": [
    "# df_mismatch = pd.read_csv(\"Mismatch_Scores.csv\")\n",
    "# df_mismatch_scores = df_mismatch.set_index('Pair')\n",
    "# df_mismatch_scores"
   ]
  },
  {
   "cell_type": "code",
   "execution_count": 35,
   "metadata": {},
   "outputs": [],
   "source": [
    "with open('mismatch_score.pkl', \"rb\") as f:\n",
    "    lines = [line.rstrip(b\"\\r\\n\") for line in f.readlines()]\n",
    "    mm_scores = pickle.loads(b\"\\n\".join(lines))"
   ]
  },
  {
   "cell_type": "markdown",
   "metadata": {},
   "source": [
    "#### Reading the PAM scores from the pickle file"
   ]
  },
  {
   "cell_type": "code",
   "execution_count": 36,
   "metadata": {},
   "outputs": [],
   "source": [
    "with open('pam_scores.pkl', \"rb\") as f:\n",
    "    lines = [line.rstrip(b\"\\r\\n\") for line in f.readlines()]\n",
    "    pam_scores = pickle.loads(b\"\\n\".join(lines))"
   ]
  },
  {
   "cell_type": "code",
   "execution_count": 37,
   "metadata": {},
   "outputs": [
    {
     "name": "stdout",
     "output_type": "stream",
     "text": [
      "{'AA': 0.0, 'AC': 0.0, 'GT': 0.016129031999999998, 'AG': 0.25925925899999996, 'CC': 0.0, 'CA': 0.0, 'CG': 0.107142857, 'TT': 0.0, 'GG': 1.0, 'GC': 0.022222222000000003, 'AT': 0.0, 'GA': 0.06944444400000001, 'TG': 0.038961038999999996, 'TA': 0.0, 'TC': 0.0, 'CT': 0.0}\n"
     ]
    }
   ],
   "source": [
    "print(pam_scores)"
   ]
  },
  {
   "cell_type": "code",
   "execution_count": 38,
   "metadata": {},
   "outputs": [],
   "source": [
    "#Reverse complements a given string\n",
    "def revcom(s):\n",
    "    basecomp = {'A': 'T', 'C': 'G', 'G': 'C', 'T': 'A','U':'A'}\n",
    "    letters = list(s[::-1])\n",
    "    letters = [basecomp[base] for base in letters]\n",
    "    return ''.join(letters)"
   ]
  },
  {
   "cell_type": "code",
   "execution_count": 39,
   "metadata": {},
   "outputs": [],
   "source": [
    "#Calculates CFD score\n",
    "def calc_cfd(wt,sg,pam):\n",
    "    #mm_scores,pam_scores = get_mm_pam_scores()\n",
    "    score = 1\n",
    "    sg = sg.replace('T','U')\n",
    "    wt = wt.replace('T','U')\n",
    "    #print (\"sg:\", sg)\n",
    "    #print (\"DNA\", wt)\n",
    "    s_list = list(sg)\n",
    "    #print(\"s_list\",s_list)\n",
    "    wt_list = list(wt)\n",
    "    #print(\"wt_list\",wt_list)\n",
    "    for i,sl in enumerate(s_list):\n",
    "        if wt_list[i] == sl:\n",
    "            score*=1\n",
    "        else:\n",
    "            key = 'r'+wt_list[i]+':d'+revcom(sl)+','+str(i+1)\n",
    "            #print(key)\n",
    "            score*= mm_scores[key]\n",
    "    score*=pam_scores[pam]\n",
    "    return (score)"
   ]
  },
  {
   "cell_type": "markdown",
   "metadata": {},
   "source": [
    "#### Final Function to calculate the cfd score of Cas9 given two input sequence, polyvalent gRNA (20mer +PAM) and Spacer gDNA (20mer +PAM)"
   ]
  },
  {
   "cell_type": "code",
   "execution_count": 40,
   "metadata": {},
   "outputs": [],
   "source": [
    "# a is the Spacer gDNA/RNA and b is the pgDNA\n",
    "def Cal_Mismatch_Score(a,b):\n",
    "    #wt = a[:-3] \n",
    "    wt = a\n",
    "    off = b\n",
    "    #sg = off[:-3]\n",
    "    sg = b\n",
    "    #pam = off[-2:] # Assuming pam as NGG\n",
    "    pam = 'GG'\n",
    "    score = calc_cfd(wt,sg,pam)\n",
    "    return (score)"
   ]
  },
  {
   "cell_type": "code",
   "execution_count": 41,
   "metadata": {},
   "outputs": [
    {
     "data": {
      "text/plain": [
       "0.5711538460500001"
      ]
     },
     "execution_count": 41,
     "metadata": {},
     "output_type": "execute_result"
    }
   ],
   "source": [
    "Cal_Mismatch_Score('GGGAAAAAAAAAAAAAAAAAA','AAAAAAAAAAAAAAAAAAAAA')"
   ]
  },
  {
   "cell_type": "code",
   "execution_count": 42,
   "metadata": {},
   "outputs": [
    {
     "data": {
      "text/plain": [
       "0.5555555560000001"
      ]
     },
     "execution_count": 42,
     "metadata": {},
     "output_type": "execute_result"
    }
   ],
   "source": [
    "Cal_Mismatch_Score('CAGTACAGTAGTGGAAGTGG','CAGTACAGTGGTGGAAGTGG')"
   ]
  },
  {
   "cell_type": "code",
   "execution_count": 43,
   "metadata": {},
   "outputs": [
    {
     "data": {
      "text/plain": [
       "1.0"
      ]
     },
     "execution_count": 43,
     "metadata": {},
     "output_type": "execute_result"
    }
   ],
   "source": [
    "Cal_Mismatch_Score('CAGTACAGTAGTGGAAGTGG','CAGTACAGTAGTGGAAGTGG')"
   ]
  },
  {
   "cell_type": "code",
   "execution_count": 44,
   "metadata": {},
   "outputs": [
    {
     "data": {
      "text/plain": [
       "20"
      ]
     },
     "execution_count": 44,
     "metadata": {},
     "output_type": "execute_result"
    }
   ],
   "source": [
    "len('ATTAGCAGAACTACACACCA')"
   ]
  },
  {
   "cell_type": "markdown",
   "metadata": {},
   "source": [
    "#### Design of optimised PgRNA based on target activity at A and B greater than minimum of both columns Spacer A and B "
   ]
  },
  {
   "cell_type": "code",
   "execution_count": 45,
   "metadata": {},
   "outputs": [],
   "source": [
    "## Design of optimised PgRNA Based on target activity at target A and B both > 0.75\n",
    "l = len(df_pairs)\n",
    "crRNA_list = []\n",
    "Guide_score = []\n",
    "Guide_scoreA = []\n",
    "Guide_scoreB = []\n",
    "for i in range(l):\n",
    "    s1 = df_pairs[\"Guide A\"][i]\n",
    "    t1 = s1# storing as t1 because we are changing the s1 for the design of pgRNAs\n",
    "    s2 = df_pairs[\"Guide B\"][i]\n",
    "    t2 = s2# storing as t2 because we are changing the s2 for the design of pgRNAs\n",
    "    s1_score = df_pairs[\"Guide A Score\"][i]\n",
    "    s2_score = df_pairs[\"Guide B Score\"][i]\n",
    "\n",
    "    mismatch = dif(s1, s2)\n",
    "    MMn = len(mismatch)\n",
    "    #print(MMn)\n",
    "    Com_MMn = ((4**MMn))\n",
    "    BaseSwap_list = []\n",
    "    for n in range(Com_MMn):\n",
    "        #print(n)\n",
    "        BaseSwap = Dec2base4(n);\n",
    "        #print(BaseSwap);\n",
    "        #print(type(BaseSwap))\n",
    "        BaseSwap_list.append(BaseSwap)\n",
    "        \n",
    "    for val in BaseSwap_list:\n",
    "        if(len(val) < MMn):\n",
    "            zero_padding = MMn - len(val)\n",
    "            listofzeros = [0]*zero_padding\n",
    "            for n in listofzeros:\n",
    "                val.insert(0, n)\n",
    "            #print(val)\n",
    "    #print(\"For Mismatch\", MMn,\"The list of replacer\", BaseSwap_list)\n",
    "    \n",
    "    \n",
    "    for pair in BaseSwap_list:\n",
    "        l = len(pair)\n",
    "        for j in range(l):\n",
    "            if (pair[j] == 0):\n",
    "                pair[j] = \"A\"\n",
    "            elif (pair[j] == 1):\n",
    "                pair[j] = \"C\"\n",
    "            elif (pair[j] == 2):\n",
    "                pair[j] = \"G\"\n",
    "            elif (pair[j] == 3):\n",
    "                pair[j] = \"T\"\n",
    "        #print(pair)\n",
    "        \n",
    "    crRNA_list_1 = []\n",
    "    for replacer in BaseSwap_list:\n",
    "        i = 0\n",
    "        for val in mismatch:\n",
    "            #print(replacer[i])\n",
    "            list1 = list(s1)\n",
    "            list1[val] = replacer[i]\n",
    "            i = i+1\n",
    "            s1 = ''.join(list1)\n",
    "\n",
    "        #print(s1)\n",
    "        crRNA_list_1.append(s1)\n",
    "        \n",
    "        \n",
    "    ## Checking the GC content of crRNA in CrRNA_list\n",
    "    \n",
    "    crRNA_list_1_corrected1 = []\n",
    "    for i in range(len(crRNA_list_1)):\n",
    "        gc_value = gc_content(crRNA_list_1[i])\n",
    "        #print(gc_value)\n",
    "        if (gc_value >30) and (gc_value < 70 ):\n",
    "            #print(gc_value)\n",
    "            crRNA_list_1_corrected1.append(crRNA_list_1[i])\n",
    "            #print(crRNA_list_1_corrected1)\n",
    "            \n",
    "            \n",
    "    crRNA_list_1_corrected2 = []        \n",
    "    # Criteria 2\n",
    "    # To avoid repeats (≥4 consecutive ‘rU’ or ≥5 consecutive ‘rG’, ‘rC’, or ‘rA)\n",
    "    l1 = len(crRNA_list_1_corrected1)\n",
    "    for i in range(l1):\n",
    "        U_repeat = crRNA_list_1_corrected1[i].find('UUUU')\n",
    "        G_repeat = crRNA_list_1_corrected1[i].find('GGGGG')\n",
    "        C_repeat = crRNA_list_1_corrected1[i].find('CCCCC')\n",
    "        A_repeat = crRNA_list_1_corrected1[i].find('AAAAA')\n",
    "        if (U_repeat==-1) and (G_repeat==-1) and (C_repeat==-1) and (A_repeat==-1):\n",
    "            crRNA_list_1_corrected2.append(crRNA_list_1_corrected1[i])\n",
    "    #print(crRNA_list_1_corrected2)\n",
    "            \n",
    "    #Checking the cfd cores\n",
    "    Activity1 = min(df_pairs['Guide A Score'])  \n",
    "    Activity2 = min(df_pairs['Guide B Score']) \n",
    "    crRNA_list_1_corrected3 = []\n",
    "    Activity_guide = []\n",
    "    Activity_guideA = []\n",
    "    Activity_guideB = []\n",
    "    for i in range(len(crRNA_list_1_corrected2)):\n",
    "        mismatch_scoreA = Cal_Mismatch_Score(t1, crRNA_list_1_corrected2[i])\n",
    "        #print(mismatch_scoreA)\n",
    "        Activity_scoreA  = s1_score* mismatch_scoreA\n",
    "        mismatch_scoreB = Cal_Mismatch_Score(t2, crRNA_list_1_corrected2[i])\n",
    "        #print(mismatch_scoreA)\n",
    "        Activity_scoreB  = s2_score* mismatch_scoreB\n",
    "        \n",
    "        Activity_guide_avg = (Activity_scoreA+Activity_scoreB)/2 # Taking the average of activity of Guide at target A and B\n",
    "        \n",
    "        if ( Activity_scoreA > Activity1) and (Activity_scoreB > Activity2):\n",
    "            #print(mismatch_scoreA)\n",
    "            #print(mismatch_scoreA)\n",
    "            crRNA_list_1_corrected3.append(crRNA_list_1_corrected2[i])\n",
    "            Activity_guide.append(Activity_guide_avg)\n",
    "            Activity_guideA.append(Activity_scoreA)\n",
    "            Activity_guideB.append(Activity_scoreB)\n",
    "    #print(crRNA_list_1_corrected3)\n",
    "            \n",
    "    ## Appending to final design RNA list\n",
    "    d2 = {'Guide A' : t1, 'Guide B' : t2, 'Mismatch' : MMn , 'pgRNA List' :crRNA_list_1_corrected3 }\n",
    "    crRNA_list.append(d2)\n",
    "    ## Appending the guide scores\n",
    "    Guide_score.append(Activity_guide)\n",
    "    Guide_scoreA.append(Activity_guideA)\n",
    "    Guide_scoreB.append(Activity_guideB)\n",
    "    \n",
    "    "
   ]
  },
  {
   "cell_type": "code",
   "execution_count": 46,
   "metadata": {},
   "outputs": [
    {
     "data": {
      "text/html": [
       "<div>\n",
       "<style scoped>\n",
       "    .dataframe tbody tr th:only-of-type {\n",
       "        vertical-align: middle;\n",
       "    }\n",
       "\n",
       "    .dataframe tbody tr th {\n",
       "        vertical-align: top;\n",
       "    }\n",
       "\n",
       "    .dataframe thead th {\n",
       "        text-align: right;\n",
       "    }\n",
       "</style>\n",
       "<table border=\"1\" class=\"dataframe\">\n",
       "  <thead>\n",
       "    <tr style=\"text-align: right;\">\n",
       "      <th></th>\n",
       "      <th>Guide A</th>\n",
       "      <th>Guide B</th>\n",
       "      <th>Mismatch</th>\n",
       "      <th>pgRNA List</th>\n",
       "    </tr>\n",
       "  </thead>\n",
       "  <tbody>\n",
       "    <tr>\n",
       "      <th>0</th>\n",
       "      <td>GCATTTAACAGCTCACACAA</td>\n",
       "      <td>CTAATTAACAAATCACACAA</td>\n",
       "      <td>5</td>\n",
       "      <td>[]</td>\n",
       "    </tr>\n",
       "    <tr>\n",
       "      <th>1</th>\n",
       "      <td>TAAAGTATGGGAAGTTCATG</td>\n",
       "      <td>CAAAGTTTAGCATGTTCATG</td>\n",
       "      <td>5</td>\n",
       "      <td>[]</td>\n",
       "    </tr>\n",
       "    <tr>\n",
       "      <th>2</th>\n",
       "      <td>CAGTACAGTAGTGGAAGTGG</td>\n",
       "      <td>CAGTATAGTGGTGGAAGTGG</td>\n",
       "      <td>2</td>\n",
       "      <td>[CAGTACAGTAGTGGAAGTGG, CAGTATAGTAGTGGAAGTGG]</td>\n",
       "    </tr>\n",
       "    <tr>\n",
       "      <th>3</th>\n",
       "      <td>TCAGTACAGTAGTGGAAGTG</td>\n",
       "      <td>TCAGTATAGTGGTGGAAGTG</td>\n",
       "      <td>2</td>\n",
       "      <td>[]</td>\n",
       "    </tr>\n",
       "    <tr>\n",
       "      <th>4</th>\n",
       "      <td>GTCAGTACAGTAGTGGAAGT</td>\n",
       "      <td>GTCAGTATAGTGGTGGAAGT</td>\n",
       "      <td>2</td>\n",
       "      <td>[GTCAGTACAGTAGTGGAAGT]</td>\n",
       "    </tr>\n",
       "    <tr>\n",
       "      <th>5</th>\n",
       "      <td>AGTCAGTACAGTAGTGGAAG</td>\n",
       "      <td>AGTCAGTATAGTGGTGGAAG</td>\n",
       "      <td>2</td>\n",
       "      <td>[]</td>\n",
       "    </tr>\n",
       "  </tbody>\n",
       "</table>\n",
       "</div>"
      ],
      "text/plain": [
       "                Guide A               Guide B  Mismatch  \\\n",
       "0  GCATTTAACAGCTCACACAA  CTAATTAACAAATCACACAA         5   \n",
       "1  TAAAGTATGGGAAGTTCATG  CAAAGTTTAGCATGTTCATG         5   \n",
       "2  CAGTACAGTAGTGGAAGTGG  CAGTATAGTGGTGGAAGTGG         2   \n",
       "3  TCAGTACAGTAGTGGAAGTG  TCAGTATAGTGGTGGAAGTG         2   \n",
       "4  GTCAGTACAGTAGTGGAAGT  GTCAGTATAGTGGTGGAAGT         2   \n",
       "5  AGTCAGTACAGTAGTGGAAG  AGTCAGTATAGTGGTGGAAG         2   \n",
       "\n",
       "                                     pgRNA List  \n",
       "0                                            []  \n",
       "1                                            []  \n",
       "2  [CAGTACAGTAGTGGAAGTGG, CAGTATAGTAGTGGAAGTGG]  \n",
       "3                                            []  \n",
       "4                        [GTCAGTACAGTAGTGGAAGT]  \n",
       "5                                            []  "
      ]
     },
     "execution_count": 46,
     "metadata": {},
     "output_type": "execute_result"
    }
   ],
   "source": [
    "df_crRNA = pd.DataFrame(crRNA_list)\n",
    "df_crRNA"
   ]
  },
  {
   "cell_type": "code",
   "execution_count": 47,
   "metadata": {},
   "outputs": [
    {
     "name": "stdout",
     "output_type": "stream",
     "text": [
      "3\n"
     ]
    }
   ],
   "source": [
    "x = 0\n",
    "for i in range(len(df_crRNA)):\n",
    "    #print(len(df_crRNA['pgRNA List'][i]))\n",
    "    x = x + len(df_crRNA['pgRNA List'][i])\n",
    "print(x)"
   ]
  },
  {
   "cell_type": "code",
   "execution_count": 48,
   "metadata": {},
   "outputs": [
    {
     "data": {
      "text/plain": [
       "3"
      ]
     },
     "execution_count": 48,
     "metadata": {},
     "output_type": "execute_result"
    }
   ],
   "source": [
    "# Use list comprehension to convert the nested lists and get a full list of pgRNAs Activity Score\n",
    "Guide_score_list = [ item for elem in Guide_score for item in elem]\n",
    "len(Guide_score_list)"
   ]
  },
  {
   "cell_type": "code",
   "execution_count": 49,
   "metadata": {},
   "outputs": [
    {
     "data": {
      "text/plain": [
       "3"
      ]
     },
     "execution_count": 49,
     "metadata": {},
     "output_type": "execute_result"
    }
   ],
   "source": [
    "# Use list comprehension to convert the nested lists and get a full list of pgRNAs Activity Score at Target A\n",
    "Guide_scoreA_list = [ item for elem in Guide_scoreA for item in elem]\n",
    "len(Guide_scoreA_list)"
   ]
  },
  {
   "cell_type": "code",
   "execution_count": 50,
   "metadata": {},
   "outputs": [
    {
     "data": {
      "text/plain": [
       "3"
      ]
     },
     "execution_count": 50,
     "metadata": {},
     "output_type": "execute_result"
    }
   ],
   "source": [
    "# Use list comprehension to convert the nested lists and get a full list of pgRNAs Activity Score at Target A\n",
    "Guide_scoreB_list = [ item for elem in Guide_scoreB for item in elem]\n",
    "len(Guide_scoreB_list)"
   ]
  },
  {
   "cell_type": "code",
   "execution_count": 51,
   "metadata": {},
   "outputs": [],
   "source": [
    "#df_pairs[\"Guide A\"] == df_crRNA[\"Guide A\"]"
   ]
  },
  {
   "cell_type": "code",
   "execution_count": 52,
   "metadata": {},
   "outputs": [
    {
     "data": {
      "text/html": [
       "<div>\n",
       "<style scoped>\n",
       "    .dataframe tbody tr th:only-of-type {\n",
       "        vertical-align: middle;\n",
       "    }\n",
       "\n",
       "    .dataframe tbody tr th {\n",
       "        vertical-align: top;\n",
       "    }\n",
       "\n",
       "    .dataframe thead th {\n",
       "        text-align: right;\n",
       "    }\n",
       "</style>\n",
       "<table border=\"1\" class=\"dataframe\">\n",
       "  <thead>\n",
       "    <tr style=\"text-align: right;\">\n",
       "      <th></th>\n",
       "      <th>GuideA</th>\n",
       "      <th>GuideB</th>\n",
       "      <th>Mismatch</th>\n",
       "      <th>pgRNA</th>\n",
       "      <th>GuideAPosition</th>\n",
       "      <th>GuideAScore</th>\n",
       "      <th>GuideBPosition</th>\n",
       "      <th>GuideBScore</th>\n",
       "    </tr>\n",
       "  </thead>\n",
       "  <tbody>\n",
       "    <tr>\n",
       "      <th>0</th>\n",
       "      <td>GCATTTAACAGCTCACACAA</td>\n",
       "      <td>CTAATTAACAAATCACACAA</td>\n",
       "      <td>5</td>\n",
       "      <td>[]</td>\n",
       "      <td>3579</td>\n",
       "      <td>0.7233</td>\n",
       "      <td>392</td>\n",
       "      <td>0.7222</td>\n",
       "    </tr>\n",
       "    <tr>\n",
       "      <th>1</th>\n",
       "      <td>TAAAGTATGGGAAGTTCATG</td>\n",
       "      <td>CAAAGTTTAGCATGTTCATG</td>\n",
       "      <td>5</td>\n",
       "      <td>[]</td>\n",
       "      <td>3314</td>\n",
       "      <td>0.6145</td>\n",
       "      <td>1673</td>\n",
       "      <td>0.6075</td>\n",
       "    </tr>\n",
       "    <tr>\n",
       "      <th>2</th>\n",
       "      <td>CAGTACAGTAGTGGAAGTGG</td>\n",
       "      <td>CAGTATAGTGGTGGAAGTGG</td>\n",
       "      <td>2</td>\n",
       "      <td>[CAGTACAGTAGTGGAAGTGG, CAGTATAGTAGTGGAAGTGG]</td>\n",
       "      <td>1388</td>\n",
       "      <td>0.5933</td>\n",
       "      <td>1355</td>\n",
       "      <td>0.5134</td>\n",
       "    </tr>\n",
       "    <tr>\n",
       "      <th>3</th>\n",
       "      <td>TCAGTACAGTAGTGGAAGTG</td>\n",
       "      <td>TCAGTATAGTGGTGGAAGTG</td>\n",
       "      <td>2</td>\n",
       "      <td>[]</td>\n",
       "      <td>1387</td>\n",
       "      <td>0.5906</td>\n",
       "      <td>1354</td>\n",
       "      <td>0.5255</td>\n",
       "    </tr>\n",
       "    <tr>\n",
       "      <th>4</th>\n",
       "      <td>GTCAGTACAGTAGTGGAAGT</td>\n",
       "      <td>GTCAGTATAGTGGTGGAAGT</td>\n",
       "      <td>2</td>\n",
       "      <td>[GTCAGTACAGTAGTGGAAGT]</td>\n",
       "      <td>1386</td>\n",
       "      <td>0.5749</td>\n",
       "      <td>1353</td>\n",
       "      <td>0.4980</td>\n",
       "    </tr>\n",
       "    <tr>\n",
       "      <th>5</th>\n",
       "      <td>AGTCAGTACAGTAGTGGAAG</td>\n",
       "      <td>AGTCAGTATAGTGGTGGAAG</td>\n",
       "      <td>2</td>\n",
       "      <td>[]</td>\n",
       "      <td>1385</td>\n",
       "      <td>0.5150</td>\n",
       "      <td>1352</td>\n",
       "      <td>0.4176</td>\n",
       "    </tr>\n",
       "  </tbody>\n",
       "</table>\n",
       "</div>"
      ],
      "text/plain": [
       "                 GuideA                GuideB  Mismatch  \\\n",
       "0  GCATTTAACAGCTCACACAA  CTAATTAACAAATCACACAA         5   \n",
       "1  TAAAGTATGGGAAGTTCATG  CAAAGTTTAGCATGTTCATG         5   \n",
       "2  CAGTACAGTAGTGGAAGTGG  CAGTATAGTGGTGGAAGTGG         2   \n",
       "3  TCAGTACAGTAGTGGAAGTG  TCAGTATAGTGGTGGAAGTG         2   \n",
       "4  GTCAGTACAGTAGTGGAAGT  GTCAGTATAGTGGTGGAAGT         2   \n",
       "5  AGTCAGTACAGTAGTGGAAG  AGTCAGTATAGTGGTGGAAG         2   \n",
       "\n",
       "                                          pgRNA  GuideAPosition  GuideAScore  \\\n",
       "0                                            []            3579       0.7233   \n",
       "1                                            []            3314       0.6145   \n",
       "2  [CAGTACAGTAGTGGAAGTGG, CAGTATAGTAGTGGAAGTGG]            1388       0.5933   \n",
       "3                                            []            1387       0.5906   \n",
       "4                        [GTCAGTACAGTAGTGGAAGT]            1386       0.5749   \n",
       "5                                            []            1385       0.5150   \n",
       "\n",
       "   GuideBPosition  GuideBScore  \n",
       "0             392       0.7222  \n",
       "1            1673       0.6075  \n",
       "2            1355       0.5134  \n",
       "3            1354       0.5255  \n",
       "4            1353       0.4980  \n",
       "5            1352       0.4176  "
      ]
     },
     "execution_count": 52,
     "metadata": {},
     "output_type": "execute_result"
    }
   ],
   "source": [
    "df_crRNA1 = df_crRNA\n",
    "df_crRNA1['GuideA Position'] = df_pairs['GuideA Position']\n",
    "df_crRNA1['Guide A Score'] = df_pairs['Guide A Score']\n",
    "df_crRNA1['GuideB Position'] = df_pairs['GuideB Position']\n",
    "df_crRNA1['Guide B Score'] = df_pairs['Guide B Score']\n",
    "df_crRNA1 = df_crRNA1.rename(columns={\"Guide A\": \"GuideA\", \"Guide B\": \"GuideB\", \"GuideA Position\": \"GuideAPosition\", \"GuideB Position\": \"GuideBPosition\", \"Guide A Score\": \"GuideAScore\", \"Guide B Score\": \"GuideBScore\", \"pgRNA List\": \"pgRNA\"})\n",
    "df_crRNA1"
   ]
  },
  {
   "cell_type": "code",
   "execution_count": 53,
   "metadata": {},
   "outputs": [
    {
     "data": {
      "text/html": [
       "<div>\n",
       "<style scoped>\n",
       "    .dataframe tbody tr th:only-of-type {\n",
       "        vertical-align: middle;\n",
       "    }\n",
       "\n",
       "    .dataframe tbody tr th {\n",
       "        vertical-align: top;\n",
       "    }\n",
       "\n",
       "    .dataframe thead th {\n",
       "        text-align: right;\n",
       "    }\n",
       "</style>\n",
       "<table border=\"1\" class=\"dataframe\">\n",
       "  <thead>\n",
       "    <tr style=\"text-align: right;\">\n",
       "      <th></th>\n",
       "      <th>GuideA</th>\n",
       "      <th>pgRNA</th>\n",
       "    </tr>\n",
       "  </thead>\n",
       "  <tbody>\n",
       "    <tr>\n",
       "      <th>0</th>\n",
       "      <td>CAGTACAGTAGTGGAAGTGG</td>\n",
       "      <td>CAGTACAGTAGTGGAAGTGG</td>\n",
       "    </tr>\n",
       "    <tr>\n",
       "      <th>1</th>\n",
       "      <td>CAGTACAGTAGTGGAAGTGG</td>\n",
       "      <td>CAGTATAGTAGTGGAAGTGG</td>\n",
       "    </tr>\n",
       "    <tr>\n",
       "      <th>2</th>\n",
       "      <td>GTCAGTACAGTAGTGGAAGT</td>\n",
       "      <td>GTCAGTACAGTAGTGGAAGT</td>\n",
       "    </tr>\n",
       "  </tbody>\n",
       "</table>\n",
       "</div>"
      ],
      "text/plain": [
       "                 GuideA                 pgRNA\n",
       "0  CAGTACAGTAGTGGAAGTGG  CAGTACAGTAGTGGAAGTGG\n",
       "1  CAGTACAGTAGTGGAAGTGG  CAGTATAGTAGTGGAAGTGG\n",
       "2  GTCAGTACAGTAGTGGAAGT  GTCAGTACAGTAGTGGAAGT"
      ]
     },
     "execution_count": 53,
     "metadata": {},
     "output_type": "execute_result"
    }
   ],
   "source": [
    "df1 = df_crRNA1[['GuideA', 'pgRNA']].copy()\n",
    "GuideAs = []\n",
    "pgRNAs = []\n",
    "for _, row in df1.iterrows():\n",
    "    GuideA = row.GuideA\n",
    "    \n",
    "    for val in row.pgRNA:\n",
    "        GuideAs.append(GuideA)\n",
    "        pgRNAs.append(val)\n",
    "df2 = pd.DataFrame({\"GuideA\": GuideAs,\n",
    "    \"pgRNA\": pgRNAs\n",
    "})\n",
    "df2"
   ]
  },
  {
   "cell_type": "code",
   "execution_count": 54,
   "metadata": {},
   "outputs": [
    {
     "data": {
      "text/html": [
       "<div>\n",
       "<style scoped>\n",
       "    .dataframe tbody tr th:only-of-type {\n",
       "        vertical-align: middle;\n",
       "    }\n",
       "\n",
       "    .dataframe tbody tr th {\n",
       "        vertical-align: top;\n",
       "    }\n",
       "\n",
       "    .dataframe thead th {\n",
       "        text-align: right;\n",
       "    }\n",
       "</style>\n",
       "<table border=\"1\" class=\"dataframe\">\n",
       "  <thead>\n",
       "    <tr style=\"text-align: right;\">\n",
       "      <th></th>\n",
       "      <th>GuideB</th>\n",
       "      <th>pgRNA</th>\n",
       "    </tr>\n",
       "  </thead>\n",
       "  <tbody>\n",
       "    <tr>\n",
       "      <th>0</th>\n",
       "      <td>CAGTATAGTGGTGGAAGTGG</td>\n",
       "      <td>CAGTACAGTAGTGGAAGTGG</td>\n",
       "    </tr>\n",
       "    <tr>\n",
       "      <th>1</th>\n",
       "      <td>CAGTATAGTGGTGGAAGTGG</td>\n",
       "      <td>CAGTATAGTAGTGGAAGTGG</td>\n",
       "    </tr>\n",
       "    <tr>\n",
       "      <th>2</th>\n",
       "      <td>GTCAGTATAGTGGTGGAAGT</td>\n",
       "      <td>GTCAGTACAGTAGTGGAAGT</td>\n",
       "    </tr>\n",
       "  </tbody>\n",
       "</table>\n",
       "</div>"
      ],
      "text/plain": [
       "                 GuideB                 pgRNA\n",
       "0  CAGTATAGTGGTGGAAGTGG  CAGTACAGTAGTGGAAGTGG\n",
       "1  CAGTATAGTGGTGGAAGTGG  CAGTATAGTAGTGGAAGTGG\n",
       "2  GTCAGTATAGTGGTGGAAGT  GTCAGTACAGTAGTGGAAGT"
      ]
     },
     "execution_count": 54,
     "metadata": {},
     "output_type": "execute_result"
    }
   ],
   "source": [
    "df1 = df_crRNA1[['GuideB', 'pgRNA']].copy()\n",
    "GuideBs = []\n",
    "pgRNAs = []\n",
    "for _, row in df1.iterrows():\n",
    "    GuideB = row.GuideB\n",
    "    \n",
    "    for val in row.pgRNA:\n",
    "        GuideBs.append(GuideB)\n",
    "        pgRNAs.append(val)\n",
    "df2 = pd.DataFrame({\"GuideB\": GuideBs,\n",
    "    \"pgRNA\": pgRNAs\n",
    "})\n",
    "df2"
   ]
  },
  {
   "cell_type": "code",
   "execution_count": 55,
   "metadata": {},
   "outputs": [
    {
     "data": {
      "text/html": [
       "<div>\n",
       "<style scoped>\n",
       "    .dataframe tbody tr th:only-of-type {\n",
       "        vertical-align: middle;\n",
       "    }\n",
       "\n",
       "    .dataframe tbody tr th {\n",
       "        vertical-align: top;\n",
       "    }\n",
       "\n",
       "    .dataframe thead th {\n",
       "        text-align: right;\n",
       "    }\n",
       "</style>\n",
       "<table border=\"1\" class=\"dataframe\">\n",
       "  <thead>\n",
       "    <tr style=\"text-align: right;\">\n",
       "      <th></th>\n",
       "      <th>GuideAPosition</th>\n",
       "      <th>pgRNA</th>\n",
       "    </tr>\n",
       "  </thead>\n",
       "  <tbody>\n",
       "    <tr>\n",
       "      <th>0</th>\n",
       "      <td>1388</td>\n",
       "      <td>CAGTACAGTAGTGGAAGTGG</td>\n",
       "    </tr>\n",
       "    <tr>\n",
       "      <th>1</th>\n",
       "      <td>1388</td>\n",
       "      <td>CAGTATAGTAGTGGAAGTGG</td>\n",
       "    </tr>\n",
       "    <tr>\n",
       "      <th>2</th>\n",
       "      <td>1386</td>\n",
       "      <td>GTCAGTACAGTAGTGGAAGT</td>\n",
       "    </tr>\n",
       "  </tbody>\n",
       "</table>\n",
       "</div>"
      ],
      "text/plain": [
       "   GuideAPosition                 pgRNA\n",
       "0            1388  CAGTACAGTAGTGGAAGTGG\n",
       "1            1388  CAGTATAGTAGTGGAAGTGG\n",
       "2            1386  GTCAGTACAGTAGTGGAAGT"
      ]
     },
     "execution_count": 55,
     "metadata": {},
     "output_type": "execute_result"
    }
   ],
   "source": [
    "df1 = df_crRNA1[['GuideAPosition', 'pgRNA']].copy()\n",
    "GuideAPositions = []\n",
    "pgRNAs = []\n",
    "for _, row in df1.iterrows():\n",
    "    GuideAPosition = row.GuideAPosition\n",
    "    \n",
    "    for val in row.pgRNA:\n",
    "        GuideAPositions.append(GuideAPosition)\n",
    "        pgRNAs.append(val)\n",
    "df2 = pd.DataFrame({\"GuideAPosition\": GuideAPositions,\n",
    "    \"pgRNA\": pgRNAs\n",
    "})\n",
    "df2"
   ]
  },
  {
   "cell_type": "code",
   "execution_count": 56,
   "metadata": {},
   "outputs": [
    {
     "data": {
      "text/html": [
       "<div>\n",
       "<style scoped>\n",
       "    .dataframe tbody tr th:only-of-type {\n",
       "        vertical-align: middle;\n",
       "    }\n",
       "\n",
       "    .dataframe tbody tr th {\n",
       "        vertical-align: top;\n",
       "    }\n",
       "\n",
       "    .dataframe thead th {\n",
       "        text-align: right;\n",
       "    }\n",
       "</style>\n",
       "<table border=\"1\" class=\"dataframe\">\n",
       "  <thead>\n",
       "    <tr style=\"text-align: right;\">\n",
       "      <th></th>\n",
       "      <th>GuideBPosition</th>\n",
       "      <th>pgRNA</th>\n",
       "    </tr>\n",
       "  </thead>\n",
       "  <tbody>\n",
       "    <tr>\n",
       "      <th>0</th>\n",
       "      <td>1355</td>\n",
       "      <td>CAGTACAGTAGTGGAAGTGG</td>\n",
       "    </tr>\n",
       "    <tr>\n",
       "      <th>1</th>\n",
       "      <td>1355</td>\n",
       "      <td>CAGTATAGTAGTGGAAGTGG</td>\n",
       "    </tr>\n",
       "    <tr>\n",
       "      <th>2</th>\n",
       "      <td>1353</td>\n",
       "      <td>GTCAGTACAGTAGTGGAAGT</td>\n",
       "    </tr>\n",
       "  </tbody>\n",
       "</table>\n",
       "</div>"
      ],
      "text/plain": [
       "   GuideBPosition                 pgRNA\n",
       "0            1355  CAGTACAGTAGTGGAAGTGG\n",
       "1            1355  CAGTATAGTAGTGGAAGTGG\n",
       "2            1353  GTCAGTACAGTAGTGGAAGT"
      ]
     },
     "execution_count": 56,
     "metadata": {},
     "output_type": "execute_result"
    }
   ],
   "source": [
    "df1 = df_crRNA1[['GuideBPosition', 'pgRNA']].copy()\n",
    "GuideBPositions = []\n",
    "pgRNAs = []\n",
    "for _, row in df1.iterrows():\n",
    "    GuideBPosition = row.GuideBPosition\n",
    "    \n",
    "    for val in row.pgRNA:\n",
    "        GuideBPositions.append(GuideBPosition)\n",
    "        pgRNAs.append(val)\n",
    "df2 = pd.DataFrame({\"GuideBPosition\": GuideBPositions,\n",
    "    \"pgRNA\": pgRNAs\n",
    "})\n",
    "df2"
   ]
  },
  {
   "cell_type": "code",
   "execution_count": 57,
   "metadata": {},
   "outputs": [
    {
     "data": {
      "text/html": [
       "<div>\n",
       "<style scoped>\n",
       "    .dataframe tbody tr th:only-of-type {\n",
       "        vertical-align: middle;\n",
       "    }\n",
       "\n",
       "    .dataframe tbody tr th {\n",
       "        vertical-align: top;\n",
       "    }\n",
       "\n",
       "    .dataframe thead th {\n",
       "        text-align: right;\n",
       "    }\n",
       "</style>\n",
       "<table border=\"1\" class=\"dataframe\">\n",
       "  <thead>\n",
       "    <tr style=\"text-align: right;\">\n",
       "      <th></th>\n",
       "      <th>GuideAScore</th>\n",
       "      <th>pgRNA</th>\n",
       "    </tr>\n",
       "  </thead>\n",
       "  <tbody>\n",
       "    <tr>\n",
       "      <th>0</th>\n",
       "      <td>0.5933</td>\n",
       "      <td>CAGTACAGTAGTGGAAGTGG</td>\n",
       "    </tr>\n",
       "    <tr>\n",
       "      <th>1</th>\n",
       "      <td>0.5933</td>\n",
       "      <td>CAGTATAGTAGTGGAAGTGG</td>\n",
       "    </tr>\n",
       "    <tr>\n",
       "      <th>2</th>\n",
       "      <td>0.5749</td>\n",
       "      <td>GTCAGTACAGTAGTGGAAGT</td>\n",
       "    </tr>\n",
       "  </tbody>\n",
       "</table>\n",
       "</div>"
      ],
      "text/plain": [
       "   GuideAScore                 pgRNA\n",
       "0       0.5933  CAGTACAGTAGTGGAAGTGG\n",
       "1       0.5933  CAGTATAGTAGTGGAAGTGG\n",
       "2       0.5749  GTCAGTACAGTAGTGGAAGT"
      ]
     },
     "execution_count": 57,
     "metadata": {},
     "output_type": "execute_result"
    }
   ],
   "source": [
    "df1 = df_crRNA1[['GuideAScore', 'pgRNA']].copy()\n",
    "GuideAScores = []\n",
    "pgRNAs = []\n",
    "for _, row in df1.iterrows():\n",
    "    GuideAScore = row.GuideAScore\n",
    "    \n",
    "    for val in row.pgRNA:\n",
    "        GuideAScores.append(GuideAScore)\n",
    "        pgRNAs.append(val)\n",
    "df2 = pd.DataFrame({\"GuideAScore\": GuideAScores,\n",
    "    \"pgRNA\": pgRNAs\n",
    "})\n",
    "df2"
   ]
  },
  {
   "cell_type": "code",
   "execution_count": 58,
   "metadata": {},
   "outputs": [
    {
     "data": {
      "text/html": [
       "<div>\n",
       "<style scoped>\n",
       "    .dataframe tbody tr th:only-of-type {\n",
       "        vertical-align: middle;\n",
       "    }\n",
       "\n",
       "    .dataframe tbody tr th {\n",
       "        vertical-align: top;\n",
       "    }\n",
       "\n",
       "    .dataframe thead th {\n",
       "        text-align: right;\n",
       "    }\n",
       "</style>\n",
       "<table border=\"1\" class=\"dataframe\">\n",
       "  <thead>\n",
       "    <tr style=\"text-align: right;\">\n",
       "      <th></th>\n",
       "      <th>GuideA</th>\n",
       "      <th>GuideB</th>\n",
       "      <th>pgRNA</th>\n",
       "    </tr>\n",
       "  </thead>\n",
       "  <tbody>\n",
       "    <tr>\n",
       "      <th>0</th>\n",
       "      <td>CAGTACAGTAGTGGAAGTGG</td>\n",
       "      <td>CAGTATAGTGGTGGAAGTGG</td>\n",
       "      <td>CAGTACAGTAGTGGAAGTGG</td>\n",
       "    </tr>\n",
       "    <tr>\n",
       "      <th>1</th>\n",
       "      <td>CAGTACAGTAGTGGAAGTGG</td>\n",
       "      <td>CAGTATAGTGGTGGAAGTGG</td>\n",
       "      <td>CAGTATAGTAGTGGAAGTGG</td>\n",
       "    </tr>\n",
       "    <tr>\n",
       "      <th>2</th>\n",
       "      <td>GTCAGTACAGTAGTGGAAGT</td>\n",
       "      <td>GTCAGTATAGTGGTGGAAGT</td>\n",
       "      <td>GTCAGTACAGTAGTGGAAGT</td>\n",
       "    </tr>\n",
       "  </tbody>\n",
       "</table>\n",
       "</div>"
      ],
      "text/plain": [
       "                 GuideA                GuideB                 pgRNA\n",
       "0  CAGTACAGTAGTGGAAGTGG  CAGTATAGTGGTGGAAGTGG  CAGTACAGTAGTGGAAGTGG\n",
       "1  CAGTACAGTAGTGGAAGTGG  CAGTATAGTGGTGGAAGTGG  CAGTATAGTAGTGGAAGTGG\n",
       "2  GTCAGTACAGTAGTGGAAGT  GTCAGTATAGTGGTGGAAGT  GTCAGTACAGTAGTGGAAGT"
      ]
     },
     "execution_count": 58,
     "metadata": {},
     "output_type": "execute_result"
    }
   ],
   "source": [
    "df1 = df_crRNA1[['GuideBScore', 'pgRNA']].copy()\n",
    "GuideBScores = []\n",
    "pgRNAs = []\n",
    "for _, row in df1.iterrows():\n",
    "    GuideBScore = row.GuideBScore\n",
    "    \n",
    "    for val in row.pgRNA:\n",
    "        GuideBScores.append(GuideBScore)\n",
    "        pgRNAs.append(val)\n",
    "df_crRNA_expanded = pd.DataFrame({\"GuideA\": GuideAs, \"GuideB\": GuideBs,\n",
    "    \"pgRNA\": pgRNAs\n",
    "})\n",
    "df_crRNA_expanded"
   ]
  },
  {
   "cell_type": "code",
   "execution_count": 59,
   "metadata": {},
   "outputs": [],
   "source": [
    "df_crRNA_expanded[\"GuideScore\"] = Guide_score_list\n",
    "df_crRNA_expanded[\"GuideScore_At_TargetA\"] = Guide_scoreA_list\n",
    "df_crRNA_expanded[\"GuideScore_At_TargetB\"] = Guide_scoreB_list\n",
    "df_crRNA_expanded[\"GuideAScore\"] = GuideAScores\n",
    "df_crRNA_expanded[\"GuideBScore\"] = GuideBScores\n",
    "df_crRNA_expanded[\"GuideAPosition\"] = GuideAPositions\n",
    "df_crRNA_expanded[\"GuideBPosition\"] = GuideBPositions\n"
   ]
  },
  {
   "cell_type": "code",
   "execution_count": 60,
   "metadata": {},
   "outputs": [],
   "source": [
    "# deleting df_crRNA1 dataframe\n",
    "del df_crRNA1"
   ]
  },
  {
   "cell_type": "code",
   "execution_count": 61,
   "metadata": {},
   "outputs": [],
   "source": [
    "df_crRNA1 = df_crRNA_expanded"
   ]
  },
  {
   "cell_type": "code",
   "execution_count": 62,
   "metadata": {},
   "outputs": [
    {
     "data": {
      "text/html": [
       "<div>\n",
       "<style scoped>\n",
       "    .dataframe tbody tr th:only-of-type {\n",
       "        vertical-align: middle;\n",
       "    }\n",
       "\n",
       "    .dataframe tbody tr th {\n",
       "        vertical-align: top;\n",
       "    }\n",
       "\n",
       "    .dataframe thead th {\n",
       "        text-align: right;\n",
       "    }\n",
       "</style>\n",
       "<table border=\"1\" class=\"dataframe\">\n",
       "  <thead>\n",
       "    <tr style=\"text-align: right;\">\n",
       "      <th></th>\n",
       "      <th>GuideA</th>\n",
       "      <th>GuideB</th>\n",
       "      <th>pgRNA</th>\n",
       "      <th>GuideScore</th>\n",
       "      <th>GuideScore_At_TargetA</th>\n",
       "      <th>GuideScore_At_TargetB</th>\n",
       "      <th>GuideAScore</th>\n",
       "      <th>GuideBScore</th>\n",
       "      <th>GuideAPosition</th>\n",
       "      <th>GuideBPosition</th>\n",
       "      <th>GC_content%</th>\n",
       "    </tr>\n",
       "  </thead>\n",
       "  <tbody>\n",
       "    <tr>\n",
       "      <th>0</th>\n",
       "      <td>CAGTACAGTAGTGGAAGTGG</td>\n",
       "      <td>CAGTATAGTGGTGGAAGTGG</td>\n",
       "      <td>CAGTACAGTAGTGGAAGTGG</td>\n",
       "      <td>0.514456</td>\n",
       "      <td>0.593300</td>\n",
       "      <td>0.435612</td>\n",
       "      <td>0.5933</td>\n",
       "      <td>0.5134</td>\n",
       "      <td>1388</td>\n",
       "      <td>1355</td>\n",
       "      <td>50.0</td>\n",
       "    </tr>\n",
       "    <tr>\n",
       "      <th>1</th>\n",
       "      <td>CAGTACAGTAGTGGAAGTGG</td>\n",
       "      <td>CAGTATAGTGGTGGAAGTGG</td>\n",
       "      <td>CAGTATAGTAGTGGAAGTGG</td>\n",
       "      <td>0.515047</td>\n",
       "      <td>0.550921</td>\n",
       "      <td>0.479173</td>\n",
       "      <td>0.5933</td>\n",
       "      <td>0.5134</td>\n",
       "      <td>1388</td>\n",
       "      <td>1355</td>\n",
       "      <td>45.0</td>\n",
       "    </tr>\n",
       "    <tr>\n",
       "      <th>2</th>\n",
       "      <td>GTCAGTACAGTAGTGGAAGT</td>\n",
       "      <td>GTCAGTATAGTGGTGGAAGT</td>\n",
       "      <td>GTCAGTACAGTAGTGGAAGT</td>\n",
       "      <td>0.519850</td>\n",
       "      <td>0.574900</td>\n",
       "      <td>0.464800</td>\n",
       "      <td>0.5749</td>\n",
       "      <td>0.4980</td>\n",
       "      <td>1386</td>\n",
       "      <td>1353</td>\n",
       "      <td>45.0</td>\n",
       "    </tr>\n",
       "  </tbody>\n",
       "</table>\n",
       "</div>"
      ],
      "text/plain": [
       "                 GuideA                GuideB                 pgRNA  \\\n",
       "0  CAGTACAGTAGTGGAAGTGG  CAGTATAGTGGTGGAAGTGG  CAGTACAGTAGTGGAAGTGG   \n",
       "1  CAGTACAGTAGTGGAAGTGG  CAGTATAGTGGTGGAAGTGG  CAGTATAGTAGTGGAAGTGG   \n",
       "2  GTCAGTACAGTAGTGGAAGT  GTCAGTATAGTGGTGGAAGT  GTCAGTACAGTAGTGGAAGT   \n",
       "\n",
       "   GuideScore  GuideScore_At_TargetA  GuideScore_At_TargetB  GuideAScore  \\\n",
       "0    0.514456               0.593300               0.435612       0.5933   \n",
       "1    0.515047               0.550921               0.479173       0.5933   \n",
       "2    0.519850               0.574900               0.464800       0.5749   \n",
       "\n",
       "   GuideBScore  GuideAPosition  GuideBPosition  GC_content%  \n",
       "0       0.5134            1388            1355         50.0  \n",
       "1       0.5134            1388            1355         45.0  \n",
       "2       0.4980            1386            1353         45.0  "
      ]
     },
     "execution_count": 62,
     "metadata": {},
     "output_type": "execute_result"
    }
   ],
   "source": [
    "### Adding a column for the GC content\n",
    "GC_content_list = df_crRNA1[\"pgRNA\"].apply(gc_content)\n",
    "df_crRNA1[\"GC_content%\"] = GC_content_list\n",
    "df_crRNA1"
   ]
  },
  {
   "cell_type": "markdown",
   "metadata": {},
   "source": [
    "#### Doing Multiple sequences call in RNAfold"
   ]
  },
  {
   "cell_type": "code",
   "execution_count": 63,
   "metadata": {},
   "outputs": [
    {
     "data": {
      "text/plain": [
       "3"
      ]
     },
     "execution_count": 63,
     "metadata": {},
     "output_type": "execute_result"
    }
   ],
   "source": [
    "# Initializing list  \n",
    "list1 = df_crRNA1['pgRNA'].values.tolist()\n",
    "  \n",
    "len(list1)"
   ]
  },
  {
   "cell_type": "code",
   "execution_count": 64,
   "metadata": {},
   "outputs": [],
   "source": [
    "# Criteria 3\n",
    "# Min Free energy of pgRNA > -5\n",
    "list3 = []\n",
    "for val in list1:\n",
    "    crRNA_combined = val\n",
    "    list3.append(crRNA_combined)"
   ]
  },
  {
   "cell_type": "code",
   "execution_count": 65,
   "metadata": {},
   "outputs": [],
   "source": [
    "# Converting the list3 to a text file\n",
    "with open('crRNA_combined.txt', 'w') as f:\n",
    "    for item in list3:\n",
    "        f.write(\"%s\\n\" % item)"
   ]
  },
  {
   "cell_type": "code",
   "execution_count": 66,
   "metadata": {},
   "outputs": [
    {
     "name": "stdout",
     "output_type": "stream",
     "text": [
      "Converting to FASTA...\n",
      "Done.\n"
     ]
    }
   ],
   "source": [
    "# Converting the text file to a fasta file\n",
    "\n",
    "fileInput = open(\"crRNA_combined.txt\", \"r\")\n",
    "fileOutput = open(\"out_crRNA_combined.fsa\", \"w\")\n",
    "#Seq count\n",
    "count = 1 ;\n",
    "\n",
    "#Loop through each line in the input file\n",
    "print(\"Converting to FASTA...\")\n",
    "for strLine in fileInput:\n",
    "\n",
    "    #Strip the endline character from each input line\n",
    "    strLine = strLine.rstrip(\"\\n\")\n",
    "\n",
    "    #Output the header\n",
    "    fileOutput.write(\">\" + str(count) + \"\\n\")\n",
    "    fileOutput.write(strLine + \"\\n\")\n",
    "\n",
    "    count = count + 1\n",
    "print (\"Done.\")\n",
    "\n",
    "#Close the input and output file\n",
    "fileInput.close()\n",
    "fileOutput.close()"
   ]
  },
  {
   "cell_type": "code",
   "execution_count": 67,
   "metadata": {},
   "outputs": [],
   "source": [
    "### Function to calculate the Minimum Free energy \n",
    "def cal_Min_Eng(x):\n",
    "    s = x.split(\"\\n\")[0]\n",
    "    s_negative = s.find(\"-\")\n",
    "    numeric_filter = filter(str.isdigit, s)\n",
    "    numeric_string = \"\".join(numeric_filter)\n",
    "    l = list(numeric_string)\n",
    "    length_l = len(l)\n",
    "    l.insert(length_l-2, \".\")\n",
    "    Mng = ''.join(l)\n",
    "    Mng = float(Mng)\n",
    "    if (s_negative == -1):\n",
    "        Mng = Mng\n",
    "    else:\n",
    "        Mng = -Mng\n",
    "        \n",
    "    return Mng"
   ]
  },
  {
   "cell_type": "code",
   "execution_count": 68,
   "metadata": {},
   "outputs": [],
   "source": [
    "### Function to calculate the Secondary Structure Using RNAFold Software\n",
    "def cal_Structure(s):\n",
    "    s1 = s.split(\" \")\n",
    "    Structure = s1[0]\n",
    "    return Structure"
   ]
  },
  {
   "cell_type": "code",
   "execution_count": 69,
   "metadata": {},
   "outputs": [
    {
     "data": {
      "text/plain": [
       "0"
      ]
     },
     "execution_count": 69,
     "metadata": {},
     "output_type": "execute_result"
    }
   ],
   "source": [
    "command1 = \"RNAfold < out_crRNA_combined.fsa >> energyoutput.txt\"\n",
    "subprocess.call(command1, shell=True) "
   ]
  },
  {
   "cell_type": "code",
   "execution_count": 70,
   "metadata": {},
   "outputs": [
    {
     "data": {
      "text/plain": [
       "0"
      ]
     },
     "execution_count": 70,
     "metadata": {},
     "output_type": "execute_result"
    }
   ],
   "source": [
    "command2 = \"del *_ss.ps\"\n",
    "subprocess.call(command2, shell=True) "
   ]
  },
  {
   "cell_type": "code",
   "execution_count": 71,
   "metadata": {},
   "outputs": [],
   "source": [
    "f=open(\"energyoutput.txt\", \"r\")\n",
    "contents =f.readlines()\n",
    "l = len(contents)\n",
    "sequence_count = []\n",
    "energy_count = []\n",
    "for i in range(l):\n",
    "    For_Query = contents[i].find(\">\")\n",
    "    #print(For_Query)\n",
    "    if (For_Query == 0):\n",
    "        sequence_count.append(contents[i+1])\n",
    "        energy_count.append(contents[i+2])\n",
    "        \n",
    "f.close()"
   ]
  },
  {
   "cell_type": "code",
   "execution_count": 72,
   "metadata": {},
   "outputs": [],
   "source": [
    "energy_list = []\n",
    "Structure_list = []\n",
    "for val in energy_count:\n",
    "    energy = cal_Min_Eng(val)\n",
    "    energy_list.append(energy)\n",
    "    Structure = cal_Structure(val)\n",
    "    Structure_list.append(Structure)"
   ]
  },
  {
   "cell_type": "code",
   "execution_count": 73,
   "metadata": {},
   "outputs": [],
   "source": [
    "df_crRNA1[\"Free Energy\"] = energy_list\n",
    "df_crRNA1[\"Secondary Structure\"] = Structure_list"
   ]
  },
  {
   "cell_type": "code",
   "execution_count": 74,
   "metadata": {},
   "outputs": [
    {
     "data": {
      "text/plain": [
       "3"
      ]
     },
     "execution_count": 74,
     "metadata": {},
     "output_type": "execute_result"
    }
   ],
   "source": [
    "df_crRNA2 = df_crRNA1.loc[(df_crRNA1['Free Energy']) > -5]\n",
    "len( df_crRNA2)"
   ]
  },
  {
   "cell_type": "code",
   "execution_count": 75,
   "metadata": {},
   "outputs": [
    {
     "data": {
      "text/html": [
       "<div>\n",
       "<style scoped>\n",
       "    .dataframe tbody tr th:only-of-type {\n",
       "        vertical-align: middle;\n",
       "    }\n",
       "\n",
       "    .dataframe tbody tr th {\n",
       "        vertical-align: top;\n",
       "    }\n",
       "\n",
       "    .dataframe thead th {\n",
       "        text-align: right;\n",
       "    }\n",
       "</style>\n",
       "<table border=\"1\" class=\"dataframe\">\n",
       "  <thead>\n",
       "    <tr style=\"text-align: right;\">\n",
       "      <th></th>\n",
       "      <th>GuideA</th>\n",
       "      <th>GuideB</th>\n",
       "      <th>pgRNA</th>\n",
       "      <th>GuideScore</th>\n",
       "      <th>GuideScore_At_TargetA</th>\n",
       "      <th>GuideScore_At_TargetB</th>\n",
       "      <th>GuideAScore</th>\n",
       "      <th>GuideBScore</th>\n",
       "      <th>GuideAPosition</th>\n",
       "      <th>GuideBPosition</th>\n",
       "      <th>GC_content%</th>\n",
       "      <th>Free Energy</th>\n",
       "      <th>Secondary Structure</th>\n",
       "    </tr>\n",
       "  </thead>\n",
       "  <tbody>\n",
       "    <tr>\n",
       "      <th>0</th>\n",
       "      <td>CAGTACAGTAGTGGAAGTGG</td>\n",
       "      <td>CAGTATAGTGGTGGAAGTGG</td>\n",
       "      <td>CAGTACAGTAGTGGAAGTGG</td>\n",
       "      <td>0.514456</td>\n",
       "      <td>0.593300</td>\n",
       "      <td>0.435612</td>\n",
       "      <td>0.5933</td>\n",
       "      <td>0.5134</td>\n",
       "      <td>1388</td>\n",
       "      <td>1355</td>\n",
       "      <td>50.0</td>\n",
       "      <td>0.0</td>\n",
       "      <td>....................</td>\n",
       "    </tr>\n",
       "    <tr>\n",
       "      <th>1</th>\n",
       "      <td>CAGTACAGTAGTGGAAGTGG</td>\n",
       "      <td>CAGTATAGTGGTGGAAGTGG</td>\n",
       "      <td>CAGTATAGTAGTGGAAGTGG</td>\n",
       "      <td>0.515047</td>\n",
       "      <td>0.550921</td>\n",
       "      <td>0.479173</td>\n",
       "      <td>0.5933</td>\n",
       "      <td>0.5134</td>\n",
       "      <td>1388</td>\n",
       "      <td>1355</td>\n",
       "      <td>45.0</td>\n",
       "      <td>0.0</td>\n",
       "      <td>....................</td>\n",
       "    </tr>\n",
       "    <tr>\n",
       "      <th>2</th>\n",
       "      <td>GTCAGTACAGTAGTGGAAGT</td>\n",
       "      <td>GTCAGTATAGTGGTGGAAGT</td>\n",
       "      <td>GTCAGTACAGTAGTGGAAGT</td>\n",
       "      <td>0.519850</td>\n",
       "      <td>0.574900</td>\n",
       "      <td>0.464800</td>\n",
       "      <td>0.5749</td>\n",
       "      <td>0.4980</td>\n",
       "      <td>1386</td>\n",
       "      <td>1353</td>\n",
       "      <td>45.0</td>\n",
       "      <td>0.0</td>\n",
       "      <td>....................</td>\n",
       "    </tr>\n",
       "  </tbody>\n",
       "</table>\n",
       "</div>"
      ],
      "text/plain": [
       "                 GuideA                GuideB                 pgRNA  \\\n",
       "0  CAGTACAGTAGTGGAAGTGG  CAGTATAGTGGTGGAAGTGG  CAGTACAGTAGTGGAAGTGG   \n",
       "1  CAGTACAGTAGTGGAAGTGG  CAGTATAGTGGTGGAAGTGG  CAGTATAGTAGTGGAAGTGG   \n",
       "2  GTCAGTACAGTAGTGGAAGT  GTCAGTATAGTGGTGGAAGT  GTCAGTACAGTAGTGGAAGT   \n",
       "\n",
       "   GuideScore  GuideScore_At_TargetA  GuideScore_At_TargetB  GuideAScore  \\\n",
       "0    0.514456               0.593300               0.435612       0.5933   \n",
       "1    0.515047               0.550921               0.479173       0.5933   \n",
       "2    0.519850               0.574900               0.464800       0.5749   \n",
       "\n",
       "   GuideBScore  GuideAPosition  GuideBPosition  GC_content%  Free Energy  \\\n",
       "0       0.5134            1388            1355         50.0          0.0   \n",
       "1       0.5134            1388            1355         45.0          0.0   \n",
       "2       0.4980            1386            1353         45.0          0.0   \n",
       "\n",
       "    Secondary Structure  \n",
       "0  ....................  \n",
       "1  ....................  \n",
       "2  ....................  "
      ]
     },
     "execution_count": 75,
     "metadata": {},
     "output_type": "execute_result"
    }
   ],
   "source": [
    "df_crRNA2 = df_crRNA2.reset_index(drop=True)\n",
    "df_crRNA2"
   ]
  },
  {
   "cell_type": "code",
   "execution_count": 76,
   "metadata": {},
   "outputs": [],
   "source": [
    "df_crRNA2.to_csv (r'df_crRNA_withEnergy_filtered.csv', index = False, header=True)"
   ]
  },
  {
   "cell_type": "code",
   "execution_count": 77,
   "metadata": {},
   "outputs": [
    {
     "data": {
      "text/plain": [
       "3"
      ]
     },
     "execution_count": 77,
     "metadata": {},
     "output_type": "execute_result"
    }
   ],
   "source": [
    "list_filtered = df_crRNA2['pgRNA'].values.tolist()\n",
    "  \n",
    "len(list_filtered)"
   ]
  },
  {
   "cell_type": "code",
   "execution_count": 78,
   "metadata": {},
   "outputs": [],
   "source": [
    "reverse_complement_rna_list = []\n",
    "for val in list_filtered:\n",
    "    # Taking the reverse complement of pg-DNA sequence\n",
    "    s = revcom(val)\n",
    "    s = s.replace('T', 'U')\n",
    "    reverse_complement_rna_list.append(s)\n",
    "    \n",
    "    "
   ]
  },
  {
   "cell_type": "code",
   "execution_count": 79,
   "metadata": {},
   "outputs": [
    {
     "data": {
      "text/plain": [
       "3"
      ]
     },
     "execution_count": 79,
     "metadata": {},
     "output_type": "execute_result"
    }
   ],
   "source": [
    "len(reverse_complement_rna_list)"
   ]
  },
  {
   "cell_type": "code",
   "execution_count": 80,
   "metadata": {},
   "outputs": [],
   "source": [
    "# Converting the reverse_complement_rna_list into a text file\n",
    "with open('pgRNA_filtered.txt', 'w') as f:\n",
    "    for item in reverse_complement_rna_list:\n",
    "        f.write(\"%s\\n\" % item)"
   ]
  },
  {
   "cell_type": "code",
   "execution_count": 81,
   "metadata": {},
   "outputs": [
    {
     "name": "stdout",
     "output_type": "stream",
     "text": [
      "Converting to FASTA...\n",
      "Done.\n"
     ]
    }
   ],
   "source": [
    "# Converting the text file to a fasta file\n",
    "\n",
    "fileInput = open(\"pgRNA_filtered.txt\", \"r\")\n",
    "fileOutput = open(\"out_pgRNA_filtered.fsa\", \"w\")\n",
    "#Seq count\n",
    "count = 1 ;\n",
    "\n",
    "#Loop through each line in the input file\n",
    "print(\"Converting to FASTA...\")\n",
    "for strLine in fileInput:\n",
    "\n",
    "    #Strip the endline character from each input line\n",
    "    strLine = strLine.rstrip(\"\\n\")\n",
    "\n",
    "    #Output the header\n",
    "    fileOutput.write(\">\" + str(count) + \"\\n\")\n",
    "    fileOutput.write(strLine + \"\\n\")\n",
    "\n",
    "    count = count + 1\n",
    "print (\"Done.\")\n",
    "\n",
    "#Close the input and output file\n",
    "fileInput.close()\n",
    "fileOutput.close()"
   ]
  },
  {
   "cell_type": "markdown",
   "metadata": {},
   "source": [
    "### Blast search"
   ]
  },
  {
   "cell_type": "code",
   "execution_count": 82,
   "metadata": {},
   "outputs": [
    {
     "data": {
      "text/plain": [
       "0"
      ]
     },
     "execution_count": 82,
     "metadata": {},
     "output_type": "execute_result"
    }
   ],
   "source": [
    "command = 'blastn -query out_pgRNA_filtered.fsa -task blastn-short -db C:/Users/18064/Documents/Blast/db/Human_NCBI_DNAdb -outfmt \"7 qacc sacc qstart qend sstart send\" -out pgRNA_NCBI_blast.out'\n",
    "subprocess.call(command, shell=True)"
   ]
  },
  {
   "cell_type": "code",
   "execution_count": 83,
   "metadata": {},
   "outputs": [],
   "source": [
    "f=open('pgRNA_NCBI_blast.out', \"r\")\n",
    "contents =f.readlines()\n",
    "query_list =[]\n",
    "hits_list = []\n",
    "for x in contents:\n",
    "    For_Query = x.find(\"Query\")\n",
    "    if (For_Query != -1):\n",
    "        query_list.append(x)\n",
    "        #print(\"For Sequence\",x)\n",
    "    hits_count = x.find(\"hits found\")\n",
    "    if (hits_count != -1):\n",
    "        hits_list.append(x)\n",
    "        #print(x)\n",
    "\n",
    "# Making a list of query sequence\n",
    "new_query_list =[]\n",
    "for val in query_list:\n",
    "    x = val.split(\"\\n\")[0].split(\"#\")[1].split(\":\")[1].split(\" \")[1]\n",
    "    x = int(x)\n",
    "    new_query_list.append(x)\n",
    "\n",
    "# Making a list of blast hits in human genome for the query sequences\n",
    "new_hit_list =[]\n",
    "for val in hits_list:\n",
    "    x = val.split(\"\\n\")[0].split(\" \")[1]\n",
    "    x = int(x)\n",
    "    new_hit_list.append(x)\n"
   ]
  },
  {
   "cell_type": "code",
   "execution_count": 84,
   "metadata": {},
   "outputs": [
    {
     "data": {
      "text/html": [
       "<div>\n",
       "<style scoped>\n",
       "    .dataframe tbody tr th:only-of-type {\n",
       "        vertical-align: middle;\n",
       "    }\n",
       "\n",
       "    .dataframe tbody tr th {\n",
       "        vertical-align: top;\n",
       "    }\n",
       "\n",
       "    .dataframe thead th {\n",
       "        text-align: right;\n",
       "    }\n",
       "</style>\n",
       "<table border=\"1\" class=\"dataframe\">\n",
       "  <thead>\n",
       "    <tr style=\"text-align: right;\">\n",
       "      <th></th>\n",
       "      <th>GuideNumber</th>\n",
       "      <th>Hits</th>\n",
       "    </tr>\n",
       "  </thead>\n",
       "  <tbody>\n",
       "    <tr>\n",
       "      <th>0</th>\n",
       "      <td>1</td>\n",
       "      <td>27</td>\n",
       "    </tr>\n",
       "    <tr>\n",
       "      <th>1</th>\n",
       "      <td>2</td>\n",
       "      <td>40</td>\n",
       "    </tr>\n",
       "    <tr>\n",
       "      <th>2</th>\n",
       "      <td>3</td>\n",
       "      <td>26</td>\n",
       "    </tr>\n",
       "  </tbody>\n",
       "</table>\n",
       "</div>"
      ],
      "text/plain": [
       "   GuideNumber  Hits\n",
       "0            1    27\n",
       "1            2    40\n",
       "2            3    26"
      ]
     },
     "execution_count": 84,
     "metadata": {},
     "output_type": "execute_result"
    }
   ],
   "source": [
    "blast_hits = pd.DataFrame({'GuideNumber': new_query_list,'Hits': new_hit_list})\n",
    "blast_hits.head()"
   ]
  },
  {
   "cell_type": "code",
   "execution_count": 85,
   "metadata": {},
   "outputs": [
    {
     "data": {
      "text/plain": [
       "3"
      ]
     },
     "execution_count": 85,
     "metadata": {},
     "output_type": "execute_result"
    }
   ],
   "source": [
    "len(blast_hits)"
   ]
  },
  {
   "cell_type": "code",
   "execution_count": 86,
   "metadata": {},
   "outputs": [],
   "source": [
    "df_crRNA2[\"HumanBlastHits\"] = new_hit_list"
   ]
  },
  {
   "cell_type": "code",
   "execution_count": 87,
   "metadata": {},
   "outputs": [],
   "source": [
    "df_crRNA2.to_csv (r'df_crRNA_withhits.csv', index = False, header=True)"
   ]
  },
  {
   "cell_type": "code",
   "execution_count": 88,
   "metadata": {},
   "outputs": [],
   "source": [
    "f=open(\"pgRNA_NCBI_blast.out\", \"r\")\n",
    "contents =f.readlines()\n",
    "Blast_list = []\n",
    "for i in range(len(contents)):\n",
    "    target = contents[i].find(\"#\")\n",
    "    if (target == -1):\n",
    "        Blast_list.append(i)"
   ]
  },
  {
   "cell_type": "code",
   "execution_count": 89,
   "metadata": {},
   "outputs": [
    {
     "data": {
      "text/html": [
       "<div>\n",
       "<style scoped>\n",
       "    .dataframe tbody tr th:only-of-type {\n",
       "        vertical-align: middle;\n",
       "    }\n",
       "\n",
       "    .dataframe tbody tr th {\n",
       "        vertical-align: top;\n",
       "    }\n",
       "\n",
       "    .dataframe thead th {\n",
       "        text-align: right;\n",
       "    }\n",
       "</style>\n",
       "<table border=\"1\" class=\"dataframe\">\n",
       "  <thead>\n",
       "    <tr style=\"text-align: right;\">\n",
       "      <th></th>\n",
       "      <th>Sequence</th>\n",
       "      <th>Accession</th>\n",
       "      <th>qstart</th>\n",
       "      <th>qend</th>\n",
       "      <th>sstart</th>\n",
       "      <th>send</th>\n",
       "    </tr>\n",
       "  </thead>\n",
       "  <tbody>\n",
       "    <tr>\n",
       "      <th>0</th>\n",
       "      <td>1</td>\n",
       "      <td>NC_000004</td>\n",
       "      <td>1</td>\n",
       "      <td>17</td>\n",
       "      <td>98897665</td>\n",
       "      <td>98897681</td>\n",
       "    </tr>\n",
       "    <tr>\n",
       "      <th>1</th>\n",
       "      <td>1</td>\n",
       "      <td>NC_000004</td>\n",
       "      <td>1</td>\n",
       "      <td>16</td>\n",
       "      <td>126115916</td>\n",
       "      <td>126115901</td>\n",
       "    </tr>\n",
       "    <tr>\n",
       "      <th>2</th>\n",
       "      <td>1</td>\n",
       "      <td>NC_000004</td>\n",
       "      <td>5</td>\n",
       "      <td>19</td>\n",
       "      <td>48843249</td>\n",
       "      <td>48843235</td>\n",
       "    </tr>\n",
       "    <tr>\n",
       "      <th>3</th>\n",
       "      <td>1</td>\n",
       "      <td>NC_000004</td>\n",
       "      <td>3</td>\n",
       "      <td>17</td>\n",
       "      <td>121607965</td>\n",
       "      <td>121607979</td>\n",
       "    </tr>\n",
       "    <tr>\n",
       "      <th>4</th>\n",
       "      <td>1</td>\n",
       "      <td>NC_000002</td>\n",
       "      <td>1</td>\n",
       "      <td>16</td>\n",
       "      <td>48677764</td>\n",
       "      <td>48677749</td>\n",
       "    </tr>\n",
       "  </tbody>\n",
       "</table>\n",
       "</div>"
      ],
      "text/plain": [
       "  Sequence  Accession qstart qend     sstart       send\n",
       "0        1  NC_000004      1   17   98897665   98897681\n",
       "1        1  NC_000004      1   16  126115916  126115901\n",
       "2        1  NC_000004      5   19   48843249   48843235\n",
       "3        1  NC_000004      3   17  121607965  121607979\n",
       "4        1  NC_000002      1   16   48677764   48677749"
      ]
     },
     "execution_count": 89,
     "metadata": {},
     "output_type": "execute_result"
    }
   ],
   "source": [
    "seq_list = []\n",
    "accession_list = []\n",
    "qstart_list = []\n",
    "qend_list = []\n",
    "sstart_list = []\n",
    "send_list = []\n",
    "for val in Blast_list:\n",
    "    line = contents[val]\n",
    "    seq = line.split('\\t')[0]\n",
    "    accession = line.split('\\t')[1]\n",
    "    qstart = line.split('\\t')[2]\n",
    "    qend = line.split('\\t')[3]\n",
    "    sstart = line.split('\\t')[4]\n",
    "    send = line.split('\\t')[5].split('\\n')[0]\n",
    "    seq_list.append(seq)\n",
    "    accession_list.append(accession)\n",
    "    qstart_list.append(qstart)\n",
    "    qend_list.append(qend)\n",
    "    sstart_list.append(sstart)\n",
    "    send_list.append(send)\n",
    "    \n",
    "d = {'Sequence':seq_list,'Accession':accession_list,'qstart':qstart_list,'qend':qend_list,'sstart':sstart_list,'send':send_list}\n",
    "df_blast = pd.DataFrame(d)\n",
    "df_blast.head()"
   ]
  },
  {
   "cell_type": "code",
   "execution_count": 90,
   "metadata": {},
   "outputs": [],
   "source": [
    "# This is for Cas9\n",
    "range_list = []\n",
    "seq_4_range_list = []\n",
    "l = len(sstart_list)\n",
    "for i in range(l):\n",
    "    if (sstart_list[i] > send_list[i]): # When hit top strand\n",
    "        #print('strand = minus')\n",
    "\n",
    "        range_blast = accession_list[i] + '  '+ str(int(sstart_list[i])+int(qstart_list[i])-1-23) + '-' + str(int(sstart_list[i])-1 + int(qend_list[i])) + '  '+ 'minus'\n",
    "    else: # When hit Bottom strand\n",
    "        range_blast = accession_list[i] + '  '+ str(int(sstart_list[i])+ 1 - int(qstart_list[i])) + '-' + str(int(sstart_list[i])-int(qstart_list[i])+1+23) + '  '+ 'plus'\n",
    "    range_list.append(range_blast)\n",
    "    seq_4_range_list.append(seq_list[i])"
   ]
  },
  {
   "cell_type": "code",
   "execution_count": 91,
   "metadata": {},
   "outputs": [
    {
     "data": {
      "text/plain": [
       "['NC_000004  98897665-98897688  plus',\n",
       " 'NC_000004  126115893-126115931  minus',\n",
       " 'NC_000004  48843230-48843267  minus',\n",
       " 'NC_000004  121607963-121607986  plus',\n",
       " 'NC_000002  48677741-48677779  minus',\n",
       " 'NC_000020  19457582-19457619  minus',\n",
       " 'NC_000019  49413668-49413705  minus',\n",
       " 'NC_000018  61288482-61288519  minus',\n",
       " 'NC_000011  18940034-18940071  minus',\n",
       " 'NC_000011  25337320-25337357  minus',\n",
       " 'NC_000009  7634398-7634435  minus',\n",
       " 'NC_000009  11689028-11689065  minus',\n",
       " 'NC_000006  37189445-37189482  minus',\n",
       " 'NC_000001  183896572-183896609  minus',\n",
       " 'NC_000001  211714722-211714759  minus',\n",
       " 'NC_000001  40967839-40967862  plus',\n",
       " 'NC_000023  108985358-108985381  plus',\n",
       " 'NC_000017  53204095-53204118  plus',\n",
       " 'NC_000015  55568611-55568634  plus',\n",
       " 'NC_000014  23536175-23536198  plus',\n",
       " 'NC_000014  58432089-58432112  plus',\n",
       " 'NC_000013  49542408-49542431  plus',\n",
       " 'NC_000010  128497173-128497196  plus',\n",
       " 'NC_000008  118457186-118457209  plus',\n",
       " 'NC_000007  119118133-119118156  plus',\n",
       " 'NC_000007  133708873-133708896  plus',\n",
       " 'NC_000003  34335358-34335381  plus',\n",
       " 'NC_000008  115686157-115686180  plus',\n",
       " 'NC_000008  24050075-24050112  minus',\n",
       " 'NC_000008  70705879-70705916  minus',\n",
       " 'NC_000006  132076700-132076738  minus',\n",
       " 'NC_000006  73104073-73104110  minus',\n",
       " 'NC_000006  125295167-125295190  plus',\n",
       " 'NC_000005  89589134-89589172  minus',\n",
       " 'NC_000005  53755553-53755590  minus',\n",
       " 'NC_000013  70669908-70669931  plus',\n",
       " 'NC_000013  109461090-109461113  plus',\n",
       " 'NC_000011  17314203-17314226  plus',\n",
       " 'NC_000001  227201077-227201100  plus',\n",
       " 'NC_000001  51383714-51383751  minus',\n",
       " 'NC_000001  30893451-30893474  plus',\n",
       " 'NC_000001  182543071-182543094  plus',\n",
       " 'NC_000001  243721604-243721627  plus',\n",
       " 'NC_000023  43077434-43077471  minus',\n",
       " 'NC_000023  126047257-126047294  minus',\n",
       " 'NC_000023  136429781-136429818  minus',\n",
       " 'NC_000022  20930109-20930146  minus',\n",
       " 'NC_000020  1753151-1753188  minus',\n",
       " 'NC_000020  8123431-8123468  minus',\n",
       " 'NC_000015  56618107-56618144  minus',\n",
       " 'NC_000010  64296120-64296157  minus',\n",
       " 'NC_000009  102048898-102048935  minus',\n",
       " 'NC_000009  82693666-82693689  plus',\n",
       " 'NC_000004  14488689-14488726  minus',\n",
       " 'NC_000004  26382383-26382420  minus',\n",
       " 'NC_000004  92522595-92522632  minus',\n",
       " 'NC_000004  130250159-130250182  plus',\n",
       " 'NC_000002  54040111-54040148  minus',\n",
       " 'NC_000002  135746985-135747022  minus',\n",
       " 'NC_000002  149298068-149298091  plus',\n",
       " 'NT_187519  733712-733735  plus',\n",
       " 'NC_000024  8189910-8189933  plus',\n",
       " 'NC_000019  9222820-9222843  plus',\n",
       " 'NC_000018  34391708-34391731  plus',\n",
       " 'NC_000014  60043315-60043338  plus',\n",
       " 'NC_000007  136317547-136317570  plus',\n",
       " 'NC_000003  89229318-89229341  plus',\n",
       " 'NC_000023  32420598-32420635  minus',\n",
       " 'NC_000023  108985360-108985383  plus',\n",
       " 'NC_000021  34284332-34284355  plus',\n",
       " 'NC_000020  19457580-19457617  minus',\n",
       " 'NC_000018  61288480-61288517  minus',\n",
       " 'NC_000016  55313841-55313864  plus',\n",
       " 'NC_000015  55568613-55568636  plus',\n",
       " 'NC_000014  58432091-58432114  plus',\n",
       " 'NC_000012  94625773-94625796  plus',\n",
       " 'NC_000012  131024588-131024625  minus',\n",
       " 'NC_000010  128497175-128497198  plus',\n",
       " 'NC_000009  7634396-7634433  minus',\n",
       " 'NC_000008  93885173-93885196  plus',\n",
       " 'NC_000007  133708875-133708898  plus',\n",
       " 'NC_000005  11080378-11080401  plus',\n",
       " 'NC_000005  64247230-64247271  minus',\n",
       " 'NC_000004  48843228-48843265  minus',\n",
       " 'NC_000004  69375701-69375742  minus',\n",
       " 'NC_000004  77223893-77223916  plus',\n",
       " 'NC_000004  98897667-98897690  plus',\n",
       " 'NC_000004  100611356-100611379  plus',\n",
       " 'NC_000004  121607965-121607988  plus',\n",
       " 'NC_000002  136273435-136273476  minus',\n",
       " 'NC_000001  40967841-40967864  plus',\n",
       " 'NC_000001  183896570-183896607  minus',\n",
       " 'NC_000001  211714720-211714757  minus']"
      ]
     },
     "execution_count": 91,
     "metadata": {},
     "output_type": "execute_result"
    }
   ],
   "source": [
    "range_list"
   ]
  },
  {
   "cell_type": "code",
   "execution_count": 92,
   "metadata": {},
   "outputs": [
    {
     "data": {
      "text/plain": [
       "93"
      ]
     },
     "execution_count": 92,
     "metadata": {},
     "output_type": "execute_result"
    }
   ],
   "source": [
    "len(range_list)"
   ]
  },
  {
   "cell_type": "code",
   "execution_count": 93,
   "metadata": {},
   "outputs": [],
   "source": [
    "#seq_4_range_list"
   ]
  },
  {
   "cell_type": "code",
   "execution_count": 94,
   "metadata": {},
   "outputs": [],
   "source": [
    "# Converting the list to a text file\n",
    "with open('range_NCBIBlasthits.txt', 'w') as f:\n",
    "    for item in range_list:\n",
    "        f.write(\"%s\\n\" % item)"
   ]
  },
  {
   "cell_type": "code",
   "execution_count": 95,
   "metadata": {},
   "outputs": [
    {
     "data": {
      "text/plain": [
       "0"
      ]
     },
     "execution_count": 95,
     "metadata": {},
     "output_type": "execute_result"
    }
   ],
   "source": [
    "command1 = 'blastdbcmd -db C:/Users/18064/Documents/Blast/db/Human_NCBI_DNAdb -entry_batch range_NCBIBlasthits.txt -outfmt \"%s\" -out NCBI_Human_DNA_Range.txt'\n",
    "subprocess.call(command1, shell=True)"
   ]
  },
  {
   "cell_type": "code",
   "execution_count": 96,
   "metadata": {},
   "outputs": [],
   "source": [
    "## Reading the NCBI_Human_RNA_Range.txt file\n",
    "f_rangeDNA=open(\"NCBI_Human_DNA_Range.txt\", \"r\")\n",
    "contents_rangeDNA =f_rangeDNA.readlines()\n",
    "Human_rangeDNA_list = []\n",
    "for val in contents_rangeDNA:\n",
    "    val1 = (val.split('\\n')[0])[0:23]\n",
    "    Human_rangeDNA_list.append(val1)   "
   ]
  },
  {
   "cell_type": "code",
   "execution_count": 97,
   "metadata": {},
   "outputs": [
    {
     "data": {
      "text/plain": [
       "93"
      ]
     },
     "execution_count": 97,
     "metadata": {},
     "output_type": "execute_result"
    }
   ],
   "source": [
    "len(Human_rangeDNA_list)"
   ]
  },
  {
   "cell_type": "code",
   "execution_count": 98,
   "metadata": {},
   "outputs": [
    {
     "data": {
      "text/plain": [
       "23"
      ]
     },
     "execution_count": 98,
     "metadata": {},
     "output_type": "execute_result"
    }
   ],
   "source": [
    "len(Human_rangeDNA_list[1])# Checking if there are 23 nucleotide in human DNA range"
   ]
  },
  {
   "cell_type": "code",
   "execution_count": 99,
   "metadata": {},
   "outputs": [],
   "source": [
    "seq_blast_cfd = []\n",
    "GuideScore_blast = []\n",
    "for val in seq_4_range_list:\n",
    "    i = (int(val) - 1)\n",
    "    #print(i)\n",
    "    seq_blast = revcom(df_crRNA2.iloc[i].loc['pgRNA'])\n",
    "    guide_score = df_crRNA2.iloc[i].loc['GuideScore']\n",
    "    seq_blast_cfd.append(seq_blast)\n",
    "    GuideScore_blast.append(guide_score)"
   ]
  },
  {
   "cell_type": "code",
   "execution_count": 100,
   "metadata": {},
   "outputs": [],
   "source": [
    "Blast_cfd_df = pd.DataFrame({'GuideNumber': seq_4_range_list,'SequenceComplementGuide': seq_blast_cfd,'HumanDNA_range': Human_rangeDNA_list,'GuideActivity': GuideScore_blast})"
   ]
  },
  {
   "cell_type": "code",
   "execution_count": 101,
   "metadata": {},
   "outputs": [
    {
     "data": {
      "text/html": [
       "<div>\n",
       "<style scoped>\n",
       "    .dataframe tbody tr th:only-of-type {\n",
       "        vertical-align: middle;\n",
       "    }\n",
       "\n",
       "    .dataframe tbody tr th {\n",
       "        vertical-align: top;\n",
       "    }\n",
       "\n",
       "    .dataframe thead th {\n",
       "        text-align: right;\n",
       "    }\n",
       "</style>\n",
       "<table border=\"1\" class=\"dataframe\">\n",
       "  <thead>\n",
       "    <tr style=\"text-align: right;\">\n",
       "      <th></th>\n",
       "      <th>GuideNumber</th>\n",
       "      <th>SequenceComplementGuide</th>\n",
       "      <th>HumanDNA_range</th>\n",
       "      <th>GuideActivity</th>\n",
       "    </tr>\n",
       "  </thead>\n",
       "  <tbody>\n",
       "    <tr>\n",
       "      <th>0</th>\n",
       "      <td>1</td>\n",
       "      <td>CCACTTCCACTACTGTACTG</td>\n",
       "      <td>CCACTTCCACTACTGTAAAACAA</td>\n",
       "      <td>0.514456</td>\n",
       "    </tr>\n",
       "    <tr>\n",
       "      <th>1</th>\n",
       "      <td>1</td>\n",
       "      <td>CCACTTCCACTACTGTACTG</td>\n",
       "      <td>ATGCAACAAAGATGACCACTTCC</td>\n",
       "      <td>0.514456</td>\n",
       "    </tr>\n",
       "    <tr>\n",
       "      <th>2</th>\n",
       "      <td>1</td>\n",
       "      <td>CCACTTCCACTACTGTACTG</td>\n",
       "      <td>TACTCAATCTAAACTCAATTCCA</td>\n",
       "      <td>0.514456</td>\n",
       "    </tr>\n",
       "    <tr>\n",
       "      <th>3</th>\n",
       "      <td>1</td>\n",
       "      <td>CCACTTCCACTACTGTACTG</td>\n",
       "      <td>GGACTTCCACTACTGTAGGGAAT</td>\n",
       "      <td>0.514456</td>\n",
       "    </tr>\n",
       "    <tr>\n",
       "      <th>4</th>\n",
       "      <td>1</td>\n",
       "      <td>CCACTTCCACTACTGTACTG</td>\n",
       "      <td>TTCCAAAAACTTCTACCACTTCC</td>\n",
       "      <td>0.514456</td>\n",
       "    </tr>\n",
       "  </tbody>\n",
       "</table>\n",
       "</div>"
      ],
      "text/plain": [
       "  GuideNumber SequenceComplementGuide           HumanDNA_range  GuideActivity\n",
       "0           1    CCACTTCCACTACTGTACTG  CCACTTCCACTACTGTAAAACAA       0.514456\n",
       "1           1    CCACTTCCACTACTGTACTG  ATGCAACAAAGATGACCACTTCC       0.514456\n",
       "2           1    CCACTTCCACTACTGTACTG  TACTCAATCTAAACTCAATTCCA       0.514456\n",
       "3           1    CCACTTCCACTACTGTACTG  GGACTTCCACTACTGTAGGGAAT       0.514456\n",
       "4           1    CCACTTCCACTACTGTACTG  TTCCAAAAACTTCTACCACTTCC       0.514456"
      ]
     },
     "execution_count": 101,
     "metadata": {},
     "output_type": "execute_result"
    }
   ],
   "source": [
    "Blast_cfd_df.head()\n",
    "    "
   ]
  },
  {
   "cell_type": "markdown",
   "metadata": {},
   "source": [
    "#### Modified Function for CFD Mismatch score in Human Range, Now we have to consider the PAM effect"
   ]
  },
  {
   "cell_type": "code",
   "execution_count": 102,
   "metadata": {},
   "outputs": [],
   "source": [
    "# a is the Spacer gDNA/RNA and b is the pgDNA\n",
    "def Cal_Mismatch_Score_blastcmd(a,b):\n",
    "    wt = a[:-3] \n",
    "    off = b\n",
    "    sg = off[:-3]\n",
    "    pam = off[-2:] \n",
    "    score = calc_cfd(wt,sg,pam)\n",
    "    return (score)"
   ]
  },
  {
   "cell_type": "code",
   "execution_count": 103,
   "metadata": {},
   "outputs": [],
   "source": [
    "## Calculating the cfd score for the Human transcriptome region corresponding to blast hits\n",
    "x = len(Human_rangeDNA_list)\n",
    "cfd_humanBlast_list = []\n",
    "Activity_humanBlast_list = []\n",
    "for i in range(x):\n",
    "    #print(i)\n",
    "    try:\n",
    "        #cfd_humanBlast = Cal_Mismatch_Score(Blast_cfd_df[\"SequenceComplementGuide\"][i], Blast_cfd_df[\"HumanDNA_range\"][i])\n",
    "        cfd_humanBlast = Cal_Mismatch_Score_blastcmd(Blast_cfd_df[\"HumanDNA_range\"][i], Blast_cfd_df[\"SequenceComplementGuide\"][i])\n",
    "        Activity_humansite = cfd_humanBlast*Blast_cfd_df[\"GuideActivity\"][i]\n",
    "    except IndexError:\n",
    "        cfd_humanBlast = 'null'\n",
    "        Activity_humansite = \"null\"\n",
    "    cfd_humanBlast_list.append(cfd_humanBlast)\n",
    "    Activity_humanBlast_list.append(Activity_humansite)"
   ]
  },
  {
   "cell_type": "code",
   "execution_count": 104,
   "metadata": {},
   "outputs": [
    {
     "data": {
      "text/plain": [
       "0.033395176280148424"
      ]
     },
     "execution_count": 104,
     "metadata": {},
     "output_type": "execute_result"
    }
   ],
   "source": [
    "Cal_Mismatch_Score_blastcmd('ACACTTCCACCACTGTACTTTCT','CCACTTCCACCACTGTACTG')"
   ]
  },
  {
   "cell_type": "code",
   "execution_count": 105,
   "metadata": {},
   "outputs": [],
   "source": [
    "Blast_cfd_df[\"CFD_Score\"] = cfd_humanBlast_list\n",
    "Blast_cfd_df[\"ActivityScore\"] = Activity_humanBlast_list"
   ]
  },
  {
   "cell_type": "code",
   "execution_count": 106,
   "metadata": {},
   "outputs": [
    {
     "data": {
      "text/html": [
       "<div>\n",
       "<style scoped>\n",
       "    .dataframe tbody tr th:only-of-type {\n",
       "        vertical-align: middle;\n",
       "    }\n",
       "\n",
       "    .dataframe tbody tr th {\n",
       "        vertical-align: top;\n",
       "    }\n",
       "\n",
       "    .dataframe thead th {\n",
       "        text-align: right;\n",
       "    }\n",
       "</style>\n",
       "<table border=\"1\" class=\"dataframe\">\n",
       "  <thead>\n",
       "    <tr style=\"text-align: right;\">\n",
       "      <th></th>\n",
       "      <th>GuideNumber</th>\n",
       "      <th>SequenceComplementGuide</th>\n",
       "      <th>HumanDNA_range</th>\n",
       "      <th>GuideActivity</th>\n",
       "      <th>CFD_Score</th>\n",
       "      <th>ActivityScore</th>\n",
       "    </tr>\n",
       "  </thead>\n",
       "  <tbody>\n",
       "    <tr>\n",
       "      <th>0</th>\n",
       "      <td>1</td>\n",
       "      <td>CCACTTCCACTACTGTACTG</td>\n",
       "      <td>CCACTTCCACTACTGTAAAACAA</td>\n",
       "      <td>0.514456</td>\n",
       "      <td>3.896104e-02</td>\n",
       "      <td>2.004374e-02</td>\n",
       "    </tr>\n",
       "    <tr>\n",
       "      <th>1</th>\n",
       "      <td>1</td>\n",
       "      <td>CCACTTCCACTACTGTACTG</td>\n",
       "      <td>ATGCAACAAAGATGACCACTTCC</td>\n",
       "      <td>0.514456</td>\n",
       "      <td>6.020177e-06</td>\n",
       "      <td>3.097117e-06</td>\n",
       "    </tr>\n",
       "    <tr>\n",
       "      <th>2</th>\n",
       "      <td>1</td>\n",
       "      <td>CCACTTCCACTACTGTACTG</td>\n",
       "      <td>TACTCAATCTAAACTCAATTCCA</td>\n",
       "      <td>0.514456</td>\n",
       "      <td>9.776033e-07</td>\n",
       "      <td>5.029339e-07</td>\n",
       "    </tr>\n",
       "    <tr>\n",
       "      <th>3</th>\n",
       "      <td>1</td>\n",
       "      <td>CCACTTCCACTACTGTACTG</td>\n",
       "      <td>GGACTTCCACTACTGTAGGGAAT</td>\n",
       "      <td>0.514456</td>\n",
       "      <td>1.926645e-02</td>\n",
       "      <td>9.911741e-03</td>\n",
       "    </tr>\n",
       "    <tr>\n",
       "      <th>4</th>\n",
       "      <td>1</td>\n",
       "      <td>CCACTTCCACTACTGTACTG</td>\n",
       "      <td>TTCCAAAAACTTCTACCACTTCC</td>\n",
       "      <td>0.514456</td>\n",
       "      <td>9.021035e-05</td>\n",
       "      <td>4.640926e-05</td>\n",
       "    </tr>\n",
       "  </tbody>\n",
       "</table>\n",
       "</div>"
      ],
      "text/plain": [
       "  GuideNumber SequenceComplementGuide           HumanDNA_range  GuideActivity  \\\n",
       "0           1    CCACTTCCACTACTGTACTG  CCACTTCCACTACTGTAAAACAA       0.514456   \n",
       "1           1    CCACTTCCACTACTGTACTG  ATGCAACAAAGATGACCACTTCC       0.514456   \n",
       "2           1    CCACTTCCACTACTGTACTG  TACTCAATCTAAACTCAATTCCA       0.514456   \n",
       "3           1    CCACTTCCACTACTGTACTG  GGACTTCCACTACTGTAGGGAAT       0.514456   \n",
       "4           1    CCACTTCCACTACTGTACTG  TTCCAAAAACTTCTACCACTTCC       0.514456   \n",
       "\n",
       "      CFD_Score  ActivityScore  \n",
       "0  3.896104e-02   2.004374e-02  \n",
       "1  6.020177e-06   3.097117e-06  \n",
       "2  9.776033e-07   5.029339e-07  \n",
       "3  1.926645e-02   9.911741e-03  \n",
       "4  9.021035e-05   4.640926e-05  "
      ]
     },
     "execution_count": 106,
     "metadata": {},
     "output_type": "execute_result"
    }
   ],
   "source": [
    "Blast_cfd_df.head()"
   ]
  },
  {
   "cell_type": "code",
   "execution_count": 107,
   "metadata": {},
   "outputs": [],
   "source": [
    "Blast_cfd_df[\"Guide\"] = Blast_cfd_df[\"SequenceComplementGuide\"].apply(revcom)"
   ]
  },
  {
   "cell_type": "code",
   "execution_count": 108,
   "metadata": {},
   "outputs": [
    {
     "data": {
      "text/html": [
       "<div>\n",
       "<style scoped>\n",
       "    .dataframe tbody tr th:only-of-type {\n",
       "        vertical-align: middle;\n",
       "    }\n",
       "\n",
       "    .dataframe tbody tr th {\n",
       "        vertical-align: top;\n",
       "    }\n",
       "\n",
       "    .dataframe thead th {\n",
       "        text-align: right;\n",
       "    }\n",
       "</style>\n",
       "<table border=\"1\" class=\"dataframe\">\n",
       "  <thead>\n",
       "    <tr style=\"text-align: right;\">\n",
       "      <th></th>\n",
       "      <th>GuideNumber</th>\n",
       "      <th>SequenceComplementGuide</th>\n",
       "      <th>HumanDNA_range</th>\n",
       "      <th>GuideActivity</th>\n",
       "      <th>CFD_Score</th>\n",
       "      <th>ActivityScore</th>\n",
       "      <th>Guide</th>\n",
       "    </tr>\n",
       "  </thead>\n",
       "  <tbody>\n",
       "    <tr>\n",
       "      <th>0</th>\n",
       "      <td>1</td>\n",
       "      <td>CCACTTCCACTACTGTACTG</td>\n",
       "      <td>CCACTTCCACTACTGTAAAACAA</td>\n",
       "      <td>0.514456</td>\n",
       "      <td>3.896104e-02</td>\n",
       "      <td>2.004374e-02</td>\n",
       "      <td>CAGTACAGTAGTGGAAGTGG</td>\n",
       "    </tr>\n",
       "    <tr>\n",
       "      <th>1</th>\n",
       "      <td>1</td>\n",
       "      <td>CCACTTCCACTACTGTACTG</td>\n",
       "      <td>ATGCAACAAAGATGACCACTTCC</td>\n",
       "      <td>0.514456</td>\n",
       "      <td>6.020177e-06</td>\n",
       "      <td>3.097117e-06</td>\n",
       "      <td>CAGTACAGTAGTGGAAGTGG</td>\n",
       "    </tr>\n",
       "    <tr>\n",
       "      <th>2</th>\n",
       "      <td>1</td>\n",
       "      <td>CCACTTCCACTACTGTACTG</td>\n",
       "      <td>TACTCAATCTAAACTCAATTCCA</td>\n",
       "      <td>0.514456</td>\n",
       "      <td>9.776033e-07</td>\n",
       "      <td>5.029339e-07</td>\n",
       "      <td>CAGTACAGTAGTGGAAGTGG</td>\n",
       "    </tr>\n",
       "    <tr>\n",
       "      <th>3</th>\n",
       "      <td>1</td>\n",
       "      <td>CCACTTCCACTACTGTACTG</td>\n",
       "      <td>GGACTTCCACTACTGTAGGGAAT</td>\n",
       "      <td>0.514456</td>\n",
       "      <td>1.926645e-02</td>\n",
       "      <td>9.911741e-03</td>\n",
       "      <td>CAGTACAGTAGTGGAAGTGG</td>\n",
       "    </tr>\n",
       "    <tr>\n",
       "      <th>4</th>\n",
       "      <td>1</td>\n",
       "      <td>CCACTTCCACTACTGTACTG</td>\n",
       "      <td>TTCCAAAAACTTCTACCACTTCC</td>\n",
       "      <td>0.514456</td>\n",
       "      <td>9.021035e-05</td>\n",
       "      <td>4.640926e-05</td>\n",
       "      <td>CAGTACAGTAGTGGAAGTGG</td>\n",
       "    </tr>\n",
       "  </tbody>\n",
       "</table>\n",
       "</div>"
      ],
      "text/plain": [
       "  GuideNumber SequenceComplementGuide           HumanDNA_range  GuideActivity  \\\n",
       "0           1    CCACTTCCACTACTGTACTG  CCACTTCCACTACTGTAAAACAA       0.514456   \n",
       "1           1    CCACTTCCACTACTGTACTG  ATGCAACAAAGATGACCACTTCC       0.514456   \n",
       "2           1    CCACTTCCACTACTGTACTG  TACTCAATCTAAACTCAATTCCA       0.514456   \n",
       "3           1    CCACTTCCACTACTGTACTG  GGACTTCCACTACTGTAGGGAAT       0.514456   \n",
       "4           1    CCACTTCCACTACTGTACTG  TTCCAAAAACTTCTACCACTTCC       0.514456   \n",
       "\n",
       "      CFD_Score  ActivityScore                 Guide  \n",
       "0  3.896104e-02   2.004374e-02  CAGTACAGTAGTGGAAGTGG  \n",
       "1  6.020177e-06   3.097117e-06  CAGTACAGTAGTGGAAGTGG  \n",
       "2  9.776033e-07   5.029339e-07  CAGTACAGTAGTGGAAGTGG  \n",
       "3  1.926645e-02   9.911741e-03  CAGTACAGTAGTGGAAGTGG  \n",
       "4  9.021035e-05   4.640926e-05  CAGTACAGTAGTGGAAGTGG  "
      ]
     },
     "execution_count": 108,
     "metadata": {},
     "output_type": "execute_result"
    }
   ],
   "source": [
    "Blast_cfd_df.head()"
   ]
  },
  {
   "cell_type": "code",
   "execution_count": 109,
   "metadata": {},
   "outputs": [],
   "source": [
    "Blast_cfd_df.to_csv (r'BlastHumanRnaHits_Activity.csv', index = False, header=True)"
   ]
  },
  {
   "cell_type": "code",
   "execution_count": null,
   "metadata": {},
   "outputs": [],
   "source": []
  }
 ],
 "metadata": {
  "kernelspec": {
   "display_name": "Python 3",
   "language": "python",
   "name": "python3"
  },
  "language_info": {
   "codemirror_mode": {
    "name": "ipython",
    "version": 3
   },
   "file_extension": ".py",
   "mimetype": "text/x-python",
   "name": "python",
   "nbconvert_exporter": "python",
   "pygments_lexer": "ipython3",
   "version": "3.7.3"
  }
 },
 "nbformat": 4,
 "nbformat_minor": 2
}
